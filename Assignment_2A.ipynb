{
  "nbformat": 4,
  "nbformat_minor": 0,
  "metadata": {
    "colab": {
      "name": "Assignment_2A.ipynb",
      "provenance": [],
      "collapsed_sections": [],
      "include_colab_link": true
    },
    "kernelspec": {
      "display_name": "Python 3",
      "name": "python3"
    },
    "language_info": {
      "name": "python"
    },
    "accelerator": "GPU",
    "widgets": {
      "application/vnd.jupyter.widget-state+json": {
        "69a2ce62686e4c84aca5e1912d9fe95e": {
          "model_module": "@jupyter-widgets/controls",
          "model_name": "VBoxModel",
          "state": {
            "_view_name": "VBoxView",
            "_dom_classes": [],
            "_model_name": "VBoxModel",
            "_view_module": "@jupyter-widgets/controls",
            "_model_module_version": "1.5.0",
            "_view_count": null,
            "_view_module_version": "1.5.0",
            "box_style": "",
            "layout": "IPY_MODEL_bbde8c6e62314278850a1ba63001c5a8",
            "_model_module": "@jupyter-widgets/controls",
            "children": [
              "IPY_MODEL_82974cf420e14d6faa26df4c7d928ab3",
              "IPY_MODEL_3ca1030c097f4009ae5d0e0f05af66e4"
            ]
          }
        },
        "bbde8c6e62314278850a1ba63001c5a8": {
          "model_module": "@jupyter-widgets/base",
          "model_name": "LayoutModel",
          "state": {
            "_view_name": "LayoutView",
            "grid_template_rows": null,
            "right": null,
            "justify_content": null,
            "_view_module": "@jupyter-widgets/base",
            "overflow": null,
            "_model_module_version": "1.2.0",
            "_view_count": null,
            "flex_flow": null,
            "width": null,
            "min_width": null,
            "border": null,
            "align_items": null,
            "bottom": null,
            "_model_module": "@jupyter-widgets/base",
            "top": null,
            "grid_column": null,
            "overflow_y": null,
            "overflow_x": null,
            "grid_auto_flow": null,
            "grid_area": null,
            "grid_template_columns": null,
            "flex": null,
            "_model_name": "LayoutModel",
            "justify_items": null,
            "grid_row": null,
            "max_height": null,
            "align_content": null,
            "visibility": null,
            "align_self": null,
            "height": null,
            "min_height": null,
            "padding": null,
            "grid_auto_rows": null,
            "grid_gap": null,
            "max_width": null,
            "order": null,
            "_view_module_version": "1.2.0",
            "grid_template_areas": null,
            "object_position": null,
            "object_fit": null,
            "grid_auto_columns": null,
            "margin": null,
            "display": null,
            "left": null
          }
        },
        "82974cf420e14d6faa26df4c7d928ab3": {
          "model_module": "@jupyter-widgets/controls",
          "model_name": "LabelModel",
          "state": {
            "_view_name": "LabelView",
            "style": "IPY_MODEL_6ac2800323cf4c3aaa59c619b2d6de0c",
            "_dom_classes": [],
            "description": "",
            "_model_name": "LabelModel",
            "placeholder": "​",
            "_view_module": "@jupyter-widgets/controls",
            "_model_module_version": "1.5.0",
            "value": " 4.38MB of 4.38MB uploaded (0.00MB deduped)\r",
            "_view_count": null,
            "_view_module_version": "1.5.0",
            "description_tooltip": null,
            "_model_module": "@jupyter-widgets/controls",
            "layout": "IPY_MODEL_a710afc50597423cb06c16a5357f20d4"
          }
        },
        "3ca1030c097f4009ae5d0e0f05af66e4": {
          "model_module": "@jupyter-widgets/controls",
          "model_name": "FloatProgressModel",
          "state": {
            "_view_name": "ProgressView",
            "style": "IPY_MODEL_6ebd182903614f4ca8e3928885bfd001",
            "_dom_classes": [],
            "description": "",
            "_model_name": "FloatProgressModel",
            "bar_style": "",
            "max": 1,
            "_view_module": "@jupyter-widgets/controls",
            "_model_module_version": "1.5.0",
            "value": 1,
            "_view_count": null,
            "_view_module_version": "1.5.0",
            "orientation": "horizontal",
            "min": 0,
            "description_tooltip": null,
            "_model_module": "@jupyter-widgets/controls",
            "layout": "IPY_MODEL_8dbde2322a80470180421c352b7c77d5"
          }
        },
        "6ac2800323cf4c3aaa59c619b2d6de0c": {
          "model_module": "@jupyter-widgets/controls",
          "model_name": "DescriptionStyleModel",
          "state": {
            "_view_name": "StyleView",
            "_model_name": "DescriptionStyleModel",
            "description_width": "",
            "_view_module": "@jupyter-widgets/base",
            "_model_module_version": "1.5.0",
            "_view_count": null,
            "_view_module_version": "1.2.0",
            "_model_module": "@jupyter-widgets/controls"
          }
        },
        "a710afc50597423cb06c16a5357f20d4": {
          "model_module": "@jupyter-widgets/base",
          "model_name": "LayoutModel",
          "state": {
            "_view_name": "LayoutView",
            "grid_template_rows": null,
            "right": null,
            "justify_content": null,
            "_view_module": "@jupyter-widgets/base",
            "overflow": null,
            "_model_module_version": "1.2.0",
            "_view_count": null,
            "flex_flow": null,
            "width": null,
            "min_width": null,
            "border": null,
            "align_items": null,
            "bottom": null,
            "_model_module": "@jupyter-widgets/base",
            "top": null,
            "grid_column": null,
            "overflow_y": null,
            "overflow_x": null,
            "grid_auto_flow": null,
            "grid_area": null,
            "grid_template_columns": null,
            "flex": null,
            "_model_name": "LayoutModel",
            "justify_items": null,
            "grid_row": null,
            "max_height": null,
            "align_content": null,
            "visibility": null,
            "align_self": null,
            "height": null,
            "min_height": null,
            "padding": null,
            "grid_auto_rows": null,
            "grid_gap": null,
            "max_width": null,
            "order": null,
            "_view_module_version": "1.2.0",
            "grid_template_areas": null,
            "object_position": null,
            "object_fit": null,
            "grid_auto_columns": null,
            "margin": null,
            "display": null,
            "left": null
          }
        },
        "6ebd182903614f4ca8e3928885bfd001": {
          "model_module": "@jupyter-widgets/controls",
          "model_name": "ProgressStyleModel",
          "state": {
            "_view_name": "StyleView",
            "_model_name": "ProgressStyleModel",
            "description_width": "",
            "_view_module": "@jupyter-widgets/base",
            "_model_module_version": "1.5.0",
            "_view_count": null,
            "_view_module_version": "1.2.0",
            "bar_color": null,
            "_model_module": "@jupyter-widgets/controls"
          }
        },
        "8dbde2322a80470180421c352b7c77d5": {
          "model_module": "@jupyter-widgets/base",
          "model_name": "LayoutModel",
          "state": {
            "_view_name": "LayoutView",
            "grid_template_rows": null,
            "right": null,
            "justify_content": null,
            "_view_module": "@jupyter-widgets/base",
            "overflow": null,
            "_model_module_version": "1.2.0",
            "_view_count": null,
            "flex_flow": null,
            "width": null,
            "min_width": null,
            "border": null,
            "align_items": null,
            "bottom": null,
            "_model_module": "@jupyter-widgets/base",
            "top": null,
            "grid_column": null,
            "overflow_y": null,
            "overflow_x": null,
            "grid_auto_flow": null,
            "grid_area": null,
            "grid_template_columns": null,
            "flex": null,
            "_model_name": "LayoutModel",
            "justify_items": null,
            "grid_row": null,
            "max_height": null,
            "align_content": null,
            "visibility": null,
            "align_self": null,
            "height": null,
            "min_height": null,
            "padding": null,
            "grid_auto_rows": null,
            "grid_gap": null,
            "max_width": null,
            "order": null,
            "_view_module_version": "1.2.0",
            "grid_template_areas": null,
            "object_position": null,
            "object_fit": null,
            "grid_auto_columns": null,
            "margin": null,
            "display": null,
            "left": null
          }
        }
      }
    }
  },
  "cells": [
    {
      "cell_type": "markdown",
      "metadata": {
        "id": "view-in-github",
        "colab_type": "text"
      },
      "source": [
        "<a href=\"https://colab.research.google.com/github/sanjeevrs2000/CS6910-Assignment-2/blob/main/Assignment_2A.ipynb\" target=\"_parent\"><img src=\"https://colab.research.google.com/assets/colab-badge.svg\" alt=\"Open In Colab\"/></a>"
      ]
    },
    {
      "cell_type": "code",
      "metadata": {
        "id": "zN6WvKauHCsk",
        "colab": {
          "base_uri": "https://localhost:8080/"
        },
        "outputId": "a5074abd-e502-4442-9f2f-8845344f78ea"
      },
      "source": [
        "!pip install wandb"
      ],
      "execution_count": 1,
      "outputs": [
        {
          "output_type": "stream",
          "text": [
            "Collecting wandb\n",
            "\u001b[?25l  Downloading https://files.pythonhosted.org/packages/47/af/4cfe48fe55046181b992251933cff4ceb3bfd71a42838f5fe683683cd925/wandb-0.10.25-py2.py3-none-any.whl (2.1MB)\n",
            "\u001b[K     |████████████████████████████████| 2.1MB 11.4MB/s \n",
            "\u001b[?25hCollecting subprocess32>=3.5.3\n",
            "\u001b[?25l  Downloading https://files.pythonhosted.org/packages/32/c8/564be4d12629b912ea431f1a50eb8b3b9d00f1a0b1ceff17f266be190007/subprocess32-3.5.4.tar.gz (97kB)\n",
            "\u001b[K     |████████████████████████████████| 102kB 10.5MB/s \n",
            "\u001b[?25hCollecting sentry-sdk>=0.4.0\n",
            "\u001b[?25l  Downloading https://files.pythonhosted.org/packages/f3/92/5a33be64990ba815364a8f2dd9e6f51de60d23dfddafb4f1fc5577d4dc64/sentry_sdk-1.0.0-py2.py3-none-any.whl (131kB)\n",
            "\u001b[K     |████████████████████████████████| 133kB 39.5MB/s \n",
            "\u001b[?25hRequirement already satisfied: requests<3,>=2.0.0 in /usr/local/lib/python3.7/dist-packages (from wandb) (2.23.0)\n",
            "Requirement already satisfied: six>=1.13.0 in /usr/local/lib/python3.7/dist-packages (from wandb) (1.15.0)\n",
            "Collecting GitPython>=1.0.0\n",
            "\u001b[?25l  Downloading https://files.pythonhosted.org/packages/a6/99/98019716955ba243657daedd1de8f3a88ca1f5b75057c38e959db22fb87b/GitPython-3.1.14-py3-none-any.whl (159kB)\n",
            "\u001b[K     |████████████████████████████████| 163kB 38.2MB/s \n",
            "\u001b[?25hCollecting shortuuid>=0.5.0\n",
            "  Downloading https://files.pythonhosted.org/packages/25/a6/2ecc1daa6a304e7f1b216f0896b26156b78e7c38e1211e9b798b4716c53d/shortuuid-1.0.1-py3-none-any.whl\n",
            "Collecting docker-pycreds>=0.4.0\n",
            "  Downloading https://files.pythonhosted.org/packages/f5/e8/f6bd1eee09314e7e6dee49cbe2c5e22314ccdb38db16c9fc72d2fa80d054/docker_pycreds-0.4.0-py2.py3-none-any.whl\n",
            "Requirement already satisfied: promise<3,>=2.0 in /usr/local/lib/python3.7/dist-packages (from wandb) (2.3)\n",
            "Requirement already satisfied: python-dateutil>=2.6.1 in /usr/local/lib/python3.7/dist-packages (from wandb) (2.8.1)\n",
            "Requirement already satisfied: protobuf>=3.12.0 in /usr/local/lib/python3.7/dist-packages (from wandb) (3.12.4)\n",
            "Requirement already satisfied: Click>=7.0 in /usr/local/lib/python3.7/dist-packages (from wandb) (7.1.2)\n",
            "Collecting pathtools\n",
            "  Downloading https://files.pythonhosted.org/packages/e7/7f/470d6fcdf23f9f3518f6b0b76be9df16dcc8630ad409947f8be2eb0ed13a/pathtools-0.1.2.tar.gz\n",
            "Collecting configparser>=3.8.1\n",
            "  Downloading https://files.pythonhosted.org/packages/fd/01/ff260a18caaf4457eb028c96eeb405c4a230ca06c8ec9c1379f813caa52e/configparser-5.0.2-py3-none-any.whl\n",
            "Requirement already satisfied: psutil>=5.0.0 in /usr/local/lib/python3.7/dist-packages (from wandb) (5.4.8)\n",
            "Requirement already satisfied: PyYAML in /usr/local/lib/python3.7/dist-packages (from wandb) (3.13)\n",
            "Requirement already satisfied: certifi in /usr/local/lib/python3.7/dist-packages (from sentry-sdk>=0.4.0->wandb) (2020.12.5)\n",
            "Requirement already satisfied: urllib3>=1.10.0 in /usr/local/lib/python3.7/dist-packages (from sentry-sdk>=0.4.0->wandb) (1.24.3)\n",
            "Requirement already satisfied: chardet<4,>=3.0.2 in /usr/local/lib/python3.7/dist-packages (from requests<3,>=2.0.0->wandb) (3.0.4)\n",
            "Requirement already satisfied: idna<3,>=2.5 in /usr/local/lib/python3.7/dist-packages (from requests<3,>=2.0.0->wandb) (2.10)\n",
            "Collecting gitdb<5,>=4.0.1\n",
            "\u001b[?25l  Downloading https://files.pythonhosted.org/packages/ea/e8/f414d1a4f0bbc668ed441f74f44c116d9816833a48bf81d22b697090dba8/gitdb-4.0.7-py3-none-any.whl (63kB)\n",
            "\u001b[K     |████████████████████████████████| 71kB 8.3MB/s \n",
            "\u001b[?25hRequirement already satisfied: setuptools in /usr/local/lib/python3.7/dist-packages (from protobuf>=3.12.0->wandb) (54.2.0)\n",
            "Collecting smmap<5,>=3.0.1\n",
            "  Downloading https://files.pythonhosted.org/packages/68/ee/d540eb5e5996eb81c26ceffac6ee49041d473bc5125f2aa995cf51ec1cf1/smmap-4.0.0-py2.py3-none-any.whl\n",
            "Building wheels for collected packages: subprocess32, pathtools\n",
            "  Building wheel for subprocess32 (setup.py) ... \u001b[?25l\u001b[?25hdone\n",
            "  Created wheel for subprocess32: filename=subprocess32-3.5.4-cp37-none-any.whl size=6489 sha256=fc2a69c7114c2751fc738828d601f7ee14599eeaf12befc517647a55f3d7a23a\n",
            "  Stored in directory: /root/.cache/pip/wheels/68/39/1a/5e402bdfdf004af1786c8b853fd92f8c4a04f22aad179654d1\n",
            "  Building wheel for pathtools (setup.py) ... \u001b[?25l\u001b[?25hdone\n",
            "  Created wheel for pathtools: filename=pathtools-0.1.2-cp37-none-any.whl size=8786 sha256=b0afd28cee98f12e968d52366543b0d06a2137a5fefc50ed5cc1e096695b45ad\n",
            "  Stored in directory: /root/.cache/pip/wheels/0b/04/79/c3b0c3a0266a3cb4376da31e5bfe8bba0c489246968a68e843\n",
            "Successfully built subprocess32 pathtools\n",
            "Installing collected packages: subprocess32, sentry-sdk, smmap, gitdb, GitPython, shortuuid, docker-pycreds, pathtools, configparser, wandb\n",
            "Successfully installed GitPython-3.1.14 configparser-5.0.2 docker-pycreds-0.4.0 gitdb-4.0.7 pathtools-0.1.2 sentry-sdk-1.0.0 shortuuid-1.0.1 smmap-4.0.0 subprocess32-3.5.4 wandb-0.10.25\n"
          ],
          "name": "stdout"
        }
      ]
    },
    {
      "cell_type": "code",
      "metadata": {
        "id": "TNuE6MpNFuEF"
      },
      "source": [
        "import numpy as np\n",
        "import pandas as pd\n",
        "import os\n",
        "import keras\n",
        "import tensorflow as tf\n",
        "from tensorflow.keras import layers,models\n",
        "from tensorflow.keras.layers import Conv2D, MaxPooling2D, Dropout, Dense, Flatten, Activation , BatchNormalization\n",
        "from tensorflow.keras.preprocessing.image import ImageDataGenerator\n",
        "from wandb.keras import WandbCallback\n",
        "import matplotlib.pyplot as plt\n",
        "import cv2\n",
        "import wandb"
      ],
      "execution_count": 2,
      "outputs": []
    },
    {
      "cell_type": "code",
      "metadata": {
        "id": "VcXuL4wGG893"
      },
      "source": [
        "%%capture\n",
        "!curl -SL https://storage.googleapis.com/wandb_datasets/nature_12K.zip > nature_12K.zip\n",
        "!unzip nature_12K.zip\n",
        "\n",
        "train_dir='inaturalist_12K/train/'\n",
        "test_dir='inaturalist_12K/val/'\n",
        "categories=['Amphibia','Animalia','Arachnida','Aves','Fungi','Insecta','Mammalia','Mollusca','Plantae','Reptilia']"
      ],
      "execution_count": 3,
      "outputs": []
    },
    {
      "cell_type": "code",
      "metadata": {
        "id": "GB6d5UT2HLh0"
      },
      "source": [
        "model=models.Sequential()\n",
        "\n",
        "model.add(Conv2D(64, (3, 3),input_shape=(img_height,img_width,3),activation='relu'))    \n",
        "model.add(BatchNormalization())\n",
        "model.add(MaxPooling2D((2, 2)))\n",
        "\n",
        "model.add(Conv2D(64, (3, 3),activation='relu'))\n",
        "model.add(MaxPooling2D((2, 2)))\n",
        "\n",
        "model.add(Conv2D(64, (3, 3),activation='relu'))\n",
        "model.add(MaxPooling2D((2, 2)))\n",
        "\n",
        "model.add(Conv2D(64, (3, 3),activation='relu'))\n",
        "model.add(MaxPooling2D((2, 2)))\n",
        "\n",
        "model.add(Conv2D(64, (3, 3),activation='relu'))\n",
        "model.add(BatchNormalization())\n",
        "model.add(MaxPooling2D((2, 2)))\n",
        "\n",
        "model.add(Flatten())\n",
        "model.add(Dense(128,activation='relu')) #change dense layer size\n",
        "model.add(BatchNormalization())\n",
        "model.add(Dropout(0.3))\n",
        "\n",
        "\n",
        "model.add(Dense(10,activation='softmax'))"
      ],
      "execution_count": null,
      "outputs": []
    },
    {
      "cell_type": "code",
      "metadata": {
        "id": "3qr7sOw3HVDD",
        "colab": {
          "base_uri": "https://localhost:8080/"
        },
        "outputId": "3a99ab55-e4c5-40a8-f460-f27c3353cbfe"
      },
      "source": [
        "model.summary()"
      ],
      "execution_count": null,
      "outputs": [
        {
          "output_type": "stream",
          "text": [
            "Model: \"sequential_1\"\n",
            "_________________________________________________________________\n",
            "Layer (type)                 Output Shape              Param #   \n",
            "=================================================================\n",
            "conv2d_5 (Conv2D)            (None, 298, 298, 64)      1792      \n",
            "_________________________________________________________________\n",
            "batch_normalization_3 (Batch (None, 298, 298, 64)      256       \n",
            "_________________________________________________________________\n",
            "max_pooling2d_5 (MaxPooling2 (None, 149, 149, 64)      0         \n",
            "_________________________________________________________________\n",
            "conv2d_6 (Conv2D)            (None, 147, 147, 64)      36928     \n",
            "_________________________________________________________________\n",
            "max_pooling2d_6 (MaxPooling2 (None, 73, 73, 64)        0         \n",
            "_________________________________________________________________\n",
            "conv2d_7 (Conv2D)            (None, 71, 71, 64)        36928     \n",
            "_________________________________________________________________\n",
            "max_pooling2d_7 (MaxPooling2 (None, 35, 35, 64)        0         \n",
            "_________________________________________________________________\n",
            "conv2d_8 (Conv2D)            (None, 33, 33, 64)        36928     \n",
            "_________________________________________________________________\n",
            "max_pooling2d_8 (MaxPooling2 (None, 16, 16, 64)        0         \n",
            "_________________________________________________________________\n",
            "conv2d_9 (Conv2D)            (None, 14, 14, 64)        36928     \n",
            "_________________________________________________________________\n",
            "batch_normalization_4 (Batch (None, 14, 14, 64)        256       \n",
            "_________________________________________________________________\n",
            "max_pooling2d_9 (MaxPooling2 (None, 7, 7, 64)          0         \n",
            "_________________________________________________________________\n",
            "flatten_1 (Flatten)          (None, 3136)              0         \n",
            "_________________________________________________________________\n",
            "dense_2 (Dense)              (None, 128)               401536    \n",
            "_________________________________________________________________\n",
            "batch_normalization_5 (Batch (None, 128)               512       \n",
            "_________________________________________________________________\n",
            "dropout_1 (Dropout)          (None, 128)               0         \n",
            "_________________________________________________________________\n",
            "dense_3 (Dense)              (None, 10)                1290      \n",
            "=================================================================\n",
            "Total params: 553,354\n",
            "Trainable params: 552,842\n",
            "Non-trainable params: 512\n",
            "_________________________________________________________________\n"
          ],
          "name": "stdout"
        }
      ]
    },
    {
      "cell_type": "code",
      "metadata": {
        "colab": {
          "base_uri": "https://localhost:8080/",
          "height": 269
        },
        "id": "RHi09V64Hb4U",
        "outputId": "431740d4-d1f1-44c5-a6c7-2eb40fb6e9a7"
      },
      "source": [
        "#visualizing an image \n",
        "for category in categories:\n",
        "  dir=os.path.join(train_dir,category)\n",
        "  for img in os.listdir(dir):\n",
        "    imgs=cv2.imread(os.path.join(dir,img))\n",
        "    new_img=cv2.resize(imgs,(300,300))\n",
        "    plt.imshow(new_img)\n",
        "    break\n",
        "  break"
      ],
      "execution_count": null,
      "outputs": [
        {
          "output_type": "display_data",
          "data": {
            "image/png": "[encoded data removed]",
            "text/plain": [
              "<Figure size 432x288 with 1 Axes>"
            ]
          },
          "metadata": {
            "tags": [],
            "needs_background": "light"
          }
        }
      ]
    },
    {
      "cell_type": "code",
      "metadata": {
        "id": "aDXufjlKNyHX",
        "colab": {
          "base_uri": "https://localhost:8080/"
        },
        "outputId": "eeaff17c-aecf-43c0-d2eb-5f2d17dd75c3"
      },
      "source": [
        "img_height=300\n",
        "img_width=300\n",
        "\n",
        "augment= ImageDataGenerator(\n",
        "    rotation_range=30,\n",
        "    width_shift_range=0.2,\n",
        "    height_shift_range=0.2,\n",
        "    shear_range=0.2,\n",
        "    zoom_range=0.2,\n",
        "    horizontal_flip=True,\n",
        "    rescale=1.0 / 255,\n",
        "    validation_split=0.1\n",
        ")\n",
        "\n",
        "datagen = ImageDataGenerator(\n",
        "    rescale=1.0 / 255,\n",
        "    validation_split=0.1\n",
        ")\n",
        "\n",
        "train_set = datagen.flow_from_directory(\n",
        "    train_dir,\n",
        "    target_size=(img_height, img_width),\n",
        "    batch_size=32,\n",
        "    color_mode='rgb',\n",
        "    class_mode='sparse',\n",
        "    shuffle=True,\n",
        "    subset='training',\n",
        "    seed=123,\n",
        ")\n",
        "\n",
        "val_set = datagen.flow_from_directory(\n",
        "    train_dir,\n",
        "    target_size=(img_height, img_width),\n",
        "    color_mode='rgb',\n",
        "    class_mode='sparse',\n",
        "    shuffle=True,\n",
        "    subset='validation',\n",
        "    seed=123,\n",
        ")\n"
      ],
      "execution_count": 4,
      "outputs": [
        {
          "output_type": "stream",
          "text": [
            "Found 9000 images belonging to 10 classes.\n",
            "Found 999 images belonging to 10 classes.\n"
          ],
          "name": "stdout"
        }
      ]
    },
    {
      "cell_type": "code",
      "metadata": {
        "colab": {
          "base_uri": "https://localhost:8080/",
          "height": 614
        },
        "id": "BUe3l9iJ1A2y",
        "outputId": "a6391def-9df9-46a0-fa2c-36b5d24d295d"
      },
      "source": [
        "#sample run\n",
        "wandb.init(entity='sanjeev-nimeesh',project='assignment_2')"
      ],
      "execution_count": null,
      "outputs": [
        {
          "output_type": "display_data",
          "data": {
            "application/javascript": [
              "\n",
              "        window._wandbApiKey = new Promise((resolve, reject) => {\n",
              "            function loadScript(url) {\n",
              "            return new Promise(function(resolve, reject) {\n",
              "                let newScript = document.createElement(\"script\");\n",
              "                newScript.onerror = reject;\n",
              "                newScript.onload = resolve;\n",
              "                document.body.appendChild(newScript);\n",
              "                newScript.src = url;\n",
              "            });\n",
              "            }\n",
              "            loadScript(\"https://cdn.jsdelivr.net/npm/postmate/build/postmate.min.js\").then(() => {\n",
              "            const iframe = document.createElement('iframe')\n",
              "            iframe.style.cssText = \"width:0;height:0;border:none\"\n",
              "            document.body.appendChild(iframe)\n",
              "            const handshake = new Postmate({\n",
              "                container: iframe,\n",
              "                url: 'https://wandb.ai/authorize'\n",
              "            });\n",
              "            const timeout = setTimeout(() => reject(\"Couldn't auto authenticate\"), 5000)\n",
              "            handshake.then(function(child) {\n",
              "                child.on('authorize', data => {\n",
              "                    clearTimeout(timeout)\n",
              "                    resolve(data)\n",
              "                });\n",
              "            });\n",
              "            })\n",
              "        });\n",
              "    "
            ],
            "text/plain": [
              "<IPython.core.display.Javascript object>"
            ]
          },
          "metadata": {
            "tags": []
          }
        },
        {
          "output_type": "stream",
          "text": [
            "\u001b[34m\u001b[1mwandb\u001b[0m: Appending key for api.wandb.ai to your netrc file: /root/.netrc\n"
          ],
          "name": "stderr"
        },
        {
          "output_type": "display_data",
          "data": {
            "text/html": [
              "\n",
              "                Tracking run with wandb version 0.10.25<br/>\n",
              "                Syncing run <strong style=\"color:#cdcd00\">sandy-dust-1</strong> to <a href=\"https://wandb.ai\" target=\"_blank\">Weights & Biases</a> <a href=\"https://docs.wandb.com/integrations/jupyter.html\" target=\"_blank\">(Documentation)</a>.<br/>\n",
              "                Project page: <a href=\"https://wandb.ai/sanjeev-nimeesh/assignment2\" target=\"_blank\">https://wandb.ai/sanjeev-nimeesh/assignment2</a><br/>\n",
              "                Run page: <a href=\"https://wandb.ai/sanjeev-nimeesh/assignment2/runs/1nb8jkhp\" target=\"_blank\">https://wandb.ai/sanjeev-nimeesh/assignment2/runs/1nb8jkhp</a><br/>\n",
              "                Run data is saved locally in <code>/content/wandb/run-20210409_133158-1nb8jkhp</code><br/><br/>\n",
              "            "
            ],
            "text/plain": [
              "<IPython.core.display.HTML object>"
            ]
          },
          "metadata": {
            "tags": []
          }
        },
        {
          "output_type": "execute_result",
          "data": {
            "text/plain": [
              "<wandb.sdk.wandb_run.Run at 0x7f1b926b1590>"
            ],
            "text/html": [
              "<h1>Run(1nb8jkhp)</h1><iframe src=\"https://wandb.ai/sanjeev-nimeesh/assignment2/runs/1nb8jkhp\" style=\"border:none;width:100%;height:400px\"></iframe>"
            ]
          },
          "metadata": {
            "tags": []
          },
          "execution_count": 17
        }
      ]
    },
    {
      "cell_type": "code",
      "metadata": {
        "colab": {
          "base_uri": "https://localhost:8080/"
        },
        "id": "WwotzTpzQHzD",
        "outputId": "6df04741-c802-41b8-909d-030cdaabe735"
      },
      "source": [
        "model.compile(\n",
        "    optimizer=tf.keras.optimizers.Adam(),\n",
        "    loss=[tf.keras.losses.SparseCategoricalCrossentropy()],\n",
        "    metrics=['accuracy'],\n",
        ")\n",
        "\n",
        "model.fit(train_set,epochs=10,validation_data=val_set,callbacks=[WandbCallback()])\n"
      ],
      "execution_count": null,
      "outputs": [
        {
          "output_type": "stream",
          "text": [
            "Epoch 1/10\n",
            "282/282 [==============================] - 181s 520ms/step - loss: 2.5504 - accuracy: 0.1827 - val_loss: 3.2305 - val_accuracy: 0.1121\n",
            "Epoch 2/10\n",
            "282/282 [==============================] - 140s 496ms/step - loss: 2.1991 - accuracy: 0.2470 - val_loss: 2.1046 - val_accuracy: 0.2523\n",
            "Epoch 3/10\n",
            "282/282 [==============================] - 134s 475ms/step - loss: 2.0427 - accuracy: 0.2935 - val_loss: 2.1082 - val_accuracy: 0.2853\n",
            "Epoch 4/10\n",
            "282/282 [==============================] - 132s 469ms/step - loss: 1.9625 - accuracy: 0.3134 - val_loss: 2.1450 - val_accuracy: 0.2833\n",
            "Epoch 5/10\n",
            "282/282 [==============================] - 136s 483ms/step - loss: 1.8666 - accuracy: 0.3433 - val_loss: 2.2123 - val_accuracy: 0.2653\n",
            "Epoch 6/10\n",
            "282/282 [==============================] - 131s 465ms/step - loss: 1.8072 - accuracy: 0.3596 - val_loss: 1.9159 - val_accuracy: 0.3323\n",
            "Epoch 7/10\n",
            "282/282 [==============================] - 136s 483ms/step - loss: 1.6922 - accuracy: 0.4087 - val_loss: 2.0204 - val_accuracy: 0.3273\n",
            "Epoch 8/10\n",
            "282/282 [==============================] - 136s 484ms/step - loss: 1.6630 - accuracy: 0.4215 - val_loss: 2.1755 - val_accuracy: 0.2763\n",
            "Epoch 9/10\n",
            "282/282 [==============================] - 126s 448ms/step - loss: 1.5829 - accuracy: 0.4497 - val_loss: 2.2153 - val_accuracy: 0.2853\n",
            "Epoch 10/10\n",
            "282/282 [==============================] - 138s 488ms/step - loss: 1.5010 - accuracy: 0.4794 - val_loss: 2.2642 - val_accuracy: 0.2643\n"
          ],
          "name": "stdout"
        },
        {
          "output_type": "execute_result",
          "data": {
            "text/plain": [
              "<tensorflow.python.keras.callbacks.History at 0x7f1b92180dd0>"
            ]
          },
          "metadata": {
            "tags": []
          },
          "execution_count": 18
        }
      ]
    },
    {
      "cell_type": "code",
      "metadata": {
        "id": "Ujlpx1fuWUeu"
      },
      "source": [
        "sweep_config = {\n",
        "  'name': 'sweep1',  \n",
        "  'method': 'grid',\n",
        "  'parameters': {\n",
        "        \n",
        "        'filters': {\n",
        "            'values': ['all_64','inc','dec']\n",
        "        },\n",
        "        'fc_size':{\n",
        "            'values':[64,128,256]\n",
        "        },\n",
        "        'batchnorm':{\n",
        "            'values':['yes']\n",
        "        },\n",
        "        'augmentation':{\n",
        "            'values':['no']   \n",
        "        },\n",
        "        'droprate':{\n",
        "            'values':[0.3,0.5]\n",
        "        }\n",
        "           \n",
        "    }\n",
        "\n",
        "}\n",
        "\n",
        "config_defaults={\n",
        "    'filters':[64,64,64,64,64],\n",
        "    'fc_size':64,\n",
        "    'batchnorm':'yes',\n",
        "    'augmentation':'no',\n",
        "    'droprate':0.3\n",
        "}"
      ],
      "execution_count": 5,
      "outputs": []
    },
    {
      "cell_type": "code",
      "metadata": {
        "id": "tBveENeqajFC"
      },
      "source": [
        "def Train_CNN():\n",
        "\n",
        "  wandb.init(config=config_defaults)\n",
        "  configs=wandb.config\n",
        "\n",
        "  batchnorm=configs['batchnorm']\n",
        "  droprate=configs['droprate']\n",
        "  augmentation=configs['augmentation']\n",
        "  filter_=configs['filters']\n",
        "  fc_size=configs['fc_size']\n",
        "\n",
        "  wandb.run.name='filters_'+filter_+'_droprate_'+str(droprate)+ str('_bn_' if batchnorm=='yes' else '') +str('augment' if augmentation=='yes' else '')\n",
        "\n",
        "  if filter_ == 'all_64':\n",
        "    filters=[64,64,64,64,64]\n",
        "  elif filter_=='all_32' :\n",
        "    filters=[32,32,32,32,32]\n",
        "  elif filter_=='inc' :\n",
        "    filters=[16,32,64,128,256]\n",
        "  elif filter_ == 'dec' :\n",
        "    filters=[256,128,64,32,16]\n",
        "\n",
        "\n",
        "  img_height,img_width=300,300\n",
        "\n",
        "  model=models.Sequential()\n",
        "\n",
        "  model.add(Conv2D(filters[0], (3, 3),input_shape=(img_height,img_width,3),activation='relu'))    \n",
        "  if batchnorm =='yes':\n",
        "    model.add(BatchNormalization())\n",
        "  model.add(MaxPooling2D((2, 2)))\n",
        "\n",
        "  model.add(Conv2D(filters[1], (3, 3),activation='relu'))\n",
        "  model.add(MaxPooling2D((2, 2)))\n",
        "\n",
        "  model.add(Conv2D(filters[2], (3, 3),activation='relu'))\n",
        "  model.add(MaxPooling2D((2, 2)))\n",
        "\n",
        "  model.add(Conv2D(filters[3], (3, 3),activation='relu'))\n",
        "  model.add(MaxPooling2D((2, 2)))\n",
        "\n",
        "  model.add(Conv2D(filters[4], (3, 3),activation='relu'))\n",
        "  if batchnorm =='yes':\n",
        "    model.add(BatchNormalization())\n",
        "  model.add(MaxPooling2D((2, 2)))\n",
        "\n",
        "  model.add(Flatten())\n",
        "  model.add(Dense(fc_size,activation='relu')) \n",
        "  if batchnorm =='yes':\n",
        "    model.add(BatchNormalization())\n",
        "  model.add(Dropout(droprate))\n",
        "\n",
        "  model.add(Dense(10,activation='softmax'))\n",
        "\n",
        "\n",
        "  augment= ImageDataGenerator(\n",
        "    rotation_range=30,\n",
        "    width_shift_range=0.2,\n",
        "    height_shift_range=0.2,\n",
        "    zoom_range=0.2,\n",
        "    horizontal_flip=True,\n",
        "    rescale=1.0 / 255,\n",
        "    validation_split=0.1,\n",
        "    dtype=tf.float32,\n",
        "  )\n",
        "\n",
        "  datagen = ImageDataGenerator(\n",
        "    rescale=1.0 / 255,\n",
        "    validation_split=0.1,\n",
        "    dtype=tf.float32,\n",
        "  )\n",
        "\n",
        "  train_set = datagen.flow_from_directory(\n",
        "    train_dir,\n",
        "    target_size=(img_height, img_width),\n",
        "    batch_size=32,\n",
        "    color_mode='rgb',\n",
        "    class_mode='sparse',\n",
        "    shuffle=True,\n",
        "    subset='training',\n",
        "    seed=123,\n",
        "  )\n",
        "\n",
        "  aug_set = augment.flow_from_directory(\n",
        "      train_dir,\n",
        "      target_size=(img_height, img_width),\n",
        "      batch_size=32,\n",
        "      color_mode='rgb',\n",
        "      class_mode='sparse',\n",
        "      shuffle=True,\n",
        "      subset='training',\n",
        "      seed=123,\n",
        "  )\n",
        "\n",
        "  val_set = datagen.flow_from_directory(\n",
        "      train_dir,\n",
        "      target_size=(img_height, img_width),\n",
        "      color_mode='rgb',\n",
        "      class_mode='sparse',\n",
        "      shuffle=True,\n",
        "      subset='validation',\n",
        "      seed=123,\n",
        "  )\n",
        "\n",
        "  model.compile(\n",
        "    optimizer=tf.keras.optimizers.Adam(),\n",
        "    loss=[tf.keras.losses.SparseCategoricalCrossentropy()],\n",
        "    metrics=['accuracy'],\n",
        "  )\n",
        "\n",
        "  if augmentation =='no' :\n",
        "    hist=model.fit(train_set,epochs=10,validation_data=val_set,callbacks=[WandbCallback()])\n",
        "  \n",
        "  else:\n",
        "    hist=model.fit(aug_set,epochs=10,validation_data=val_set,callbacks=[WandbCallback()])\n",
        "    val_acc=max(hist.history['val_accuracy'])\n",
        "  params={'batch_norm':batchnorm,'augmentation':augmentation,'dropout':droprate,'filter_architecture':filter_,'val_acc':val_acc}\n",
        "  wandb.log(params)"
      ],
      "execution_count": 15,
      "outputs": []
    },
    {
      "cell_type": "code",
      "metadata": {
        "colab": {
          "base_uri": "https://localhost:8080/",
          "height": 1000,
          "referenced_widgets": [
            "69a2ce62686e4c84aca5e1912d9fe95e",
            "bbde8c6e62314278850a1ba63001c5a8",
            "82974cf420e14d6faa26df4c7d928ab3",
            "3ca1030c097f4009ae5d0e0f05af66e4",
            "6ac2800323cf4c3aaa59c619b2d6de0c",
            "a710afc50597423cb06c16a5357f20d4",
            "6ebd182903614f4ca8e3928885bfd001",
            "8dbde2322a80470180421c352b7c77d5"
          ]
        },
        "id": "0fMZNTOwA6gg",
        "outputId": "b31b1439-56ee-441f-80ed-9a4563956111"
      },
      "source": [
        "sweep_id=wandb.sweep(sweep_config,entity='sanjeev-nimeesh',project='assignment_2')\n",
        "wandb.agent(sweep_id, Train_CNN)         "
      ],
      "execution_count": null,
      "outputs": [
        {
          "output_type": "stream",
          "text": [
            "\u001b[34m\u001b[1mwandb\u001b[0m: \u001b[33mWARNING\u001b[0m Calling wandb.login() after wandb.init() has no effect.\n",
            "\u001b[34m\u001b[1mwandb\u001b[0m: \u001b[33mWARNING\u001b[0m Calling wandb.login() after wandb.init() has no effect.\n"
          ],
          "name": "stderr"
        },
        {
          "output_type": "stream",
          "text": [
            "Create sweep with ID: z4v5hj7c\n",
            "Sweep URL: https://wandb.ai/sanjeev-nimeesh/assignment_2/sweeps/z4v5hj7c\n"
          ],
          "name": "stdout"
        },
        {
          "output_type": "stream",
          "text": [
            "\u001b[34m\u001b[1mwandb\u001b[0m: Agent Starting Run: d0fwtqnc with config:\n",
            "\u001b[34m\u001b[1mwandb\u001b[0m: \taugmentation: no\n",
            "\u001b[34m\u001b[1mwandb\u001b[0m: \tbatchnorm: yes\n",
            "\u001b[34m\u001b[1mwandb\u001b[0m: \tdroprate: 0.3\n",
            "\u001b[34m\u001b[1mwandb\u001b[0m: \tfc_size: 64\n",
            "\u001b[34m\u001b[1mwandb\u001b[0m: \tfilters: all_64\n"
          ],
          "name": "stderr"
        },
        {
          "output_type": "display_data",
          "data": {
            "text/html": [
              "\n",
              "                Tracking run with wandb version 0.10.25<br/>\n",
              "                Syncing run <strong style=\"color:#cdcd00\">snowy-sweep-1</strong> to <a href=\"https://wandb.ai\" target=\"_blank\">Weights & Biases</a> <a href=\"https://docs.wandb.com/integrations/jupyter.html\" target=\"_blank\">(Documentation)</a>.<br/>\n",
              "                Project page: <a href=\"https://wandb.ai/sanjeev-nimeesh/assignment_2\" target=\"_blank\">https://wandb.ai/sanjeev-nimeesh/assignment_2</a><br/>\n",
              "                Sweep page: <a href=\"https://wandb.ai/sanjeev-nimeesh/assignment_2/sweeps/z4v5hj7c\" target=\"_blank\">https://wandb.ai/sanjeev-nimeesh/assignment_2/sweeps/z4v5hj7c</a><br/>\n",
              "Run page: <a href=\"https://wandb.ai/sanjeev-nimeesh/assignment_2/runs/d0fwtqnc\" target=\"_blank\">https://wandb.ai/sanjeev-nimeesh/assignment_2/runs/d0fwtqnc</a><br/>\n",
              "                Run data is saved locally in <code>/content/wandb/run-20210409_195743-d0fwtqnc</code><br/><br/>\n",
              "            "
            ],
            "text/plain": [
              "<IPython.core.display.HTML object>"
            ]
          },
          "metadata": {
            "tags": []
          }
        },
        {
          "output_type": "stream",
          "text": [
            "Found 9000 images belonging to 10 classes.\n",
            "Found 9000 images belonging to 10 classes.\n",
            "Found 999 images belonging to 10 classes.\n",
            "Epoch 1/10\n",
            "282/282 [==============================] - 169s 595ms/step - loss: 2.4975 - accuracy: 0.1895 - val_loss: 2.9615 - val_accuracy: 0.1271\n",
            "Epoch 2/10\n",
            "282/282 [==============================] - 165s 584ms/step - loss: 2.1244 - accuracy: 0.2655 - val_loss: 2.0792 - val_accuracy: 0.2613\n",
            "Epoch 3/10\n",
            "282/282 [==============================] - 165s 586ms/step - loss: 2.0201 - accuracy: 0.2888 - val_loss: 2.1158 - val_accuracy: 0.2793\n",
            "Epoch 4/10\n",
            "282/282 [==============================] - 161s 571ms/step - loss: 1.9385 - accuracy: 0.3104 - val_loss: 2.0864 - val_accuracy: 0.2873\n",
            "Epoch 5/10\n",
            "282/282 [==============================] - 160s 568ms/step - loss: 1.8718 - accuracy: 0.3435 - val_loss: 2.0469 - val_accuracy: 0.2933\n",
            "Epoch 6/10\n",
            "282/282 [==============================] - 160s 567ms/step - loss: 1.8136 - accuracy: 0.3593 - val_loss: 1.9833 - val_accuracy: 0.3323\n",
            "Epoch 7/10\n",
            "282/282 [==============================] - 160s 567ms/step - loss: 1.7587 - accuracy: 0.3871 - val_loss: 2.1033 - val_accuracy: 0.2923\n",
            "Epoch 8/10\n",
            "282/282 [==============================] - 157s 557ms/step - loss: 1.6903 - accuracy: 0.4140 - val_loss: 2.3575 - val_accuracy: 0.2603\n",
            "Epoch 9/10\n",
            "282/282 [==============================] - 154s 545ms/step - loss: 1.6785 - accuracy: 0.4118 - val_loss: 1.9069 - val_accuracy: 0.3193\n",
            "Epoch 10/10\n",
            "282/282 [==============================] - 152s 538ms/step - loss: 1.6266 - accuracy: 0.4357 - val_loss: 1.9169 - val_accuracy: 0.3483\n"
          ],
          "name": "stdout"
        },
        {
          "output_type": "display_data",
          "data": {
            "text/html": [
              "<br/>Waiting for W&B process to finish, PID 500<br/>Program failed with code 1.  Press ctrl-c to abort syncing."
            ],
            "text/plain": [
              "<IPython.core.display.HTML object>"
            ]
          },
          "metadata": {
            "tags": []
          }
        },
        {
          "output_type": "display_data",
          "data": {
            "application/vnd.jupyter.widget-view+json": {
              "model_id": "69a2ce62686e4c84aca5e1912d9fe95e",
              "version_minor": 0,
              "version_major": 2
            },
            "text/plain": [
              "VBox(children=(Label(value=' 4.34MB of 4.34MB uploaded (0.00MB deduped)\\r'), FloatProgress(value=1.0, max=1.0)…"
            ]
          },
          "metadata": {
            "tags": []
          }
        },
        {
          "output_type": "display_data",
          "data": {
            "text/html": [
              "Find user logs for this run at: <code>/content/wandb/run-20210409_195743-d0fwtqnc/logs/debug.log</code>"
            ],
            "text/plain": [
              "<IPython.core.display.HTML object>"
            ]
          },
          "metadata": {
            "tags": []
          }
        },
        {
          "output_type": "display_data",
          "data": {
            "text/html": [
              "Find internal logs for this run at: <code>/content/wandb/run-20210409_195743-d0fwtqnc/logs/debug-internal.log</code>"
            ],
            "text/plain": [
              "<IPython.core.display.HTML object>"
            ]
          },
          "metadata": {
            "tags": []
          }
        },
        {
          "output_type": "display_data",
          "data": {
            "text/html": [
              "<h3>Run summary:</h3><br/><style>\n",
              "    table.wandb td:nth-child(1) { padding: 0 10px; text-align: right }\n",
              "    </style><table class=\"wandb\">\n",
              "<tr><td>epoch</td><td>9</td></tr><tr><td>loss</td><td>1.62497</td></tr><tr><td>accuracy</td><td>0.43578</td></tr><tr><td>val_loss</td><td>1.91691</td></tr><tr><td>val_accuracy</td><td>0.34835</td></tr><tr><td>_runtime</td><td>1609</td></tr><tr><td>_timestamp</td><td>1617999872</td></tr><tr><td>_step</td><td>9</td></tr><tr><td>best_val_loss</td><td>1.90695</td></tr><tr><td>best_epoch</td><td>8</td></tr></table>"
            ],
            "text/plain": [
              "<IPython.core.display.HTML object>"
            ]
          },
          "metadata": {
            "tags": []
          }
        },
        {
          "output_type": "display_data",
          "data": {
            "text/html": [
              "<h3>Run history:</h3><br/><style>\n",
              "    table.wandb td:nth-child(1) { padding: 0 10px; text-align: right }\n",
              "    </style><table class=\"wandb\">\n",
              "<tr><td>epoch</td><td>▁▂▃▃▄▅▆▆▇█</td></tr><tr><td>loss</td><td>█▆▅▄▃▃▂▂▂▁</td></tr><tr><td>accuracy</td><td>▁▃▃▄▅▆▆▇▇█</td></tr><tr><td>val_loss</td><td>█▂▂▂▂▂▂▄▁▁</td></tr><tr><td>val_accuracy</td><td>▁▅▆▆▆▇▆▅▇█</td></tr><tr><td>_runtime</td><td>▁▂▃▃▄▅▆▇▇█</td></tr><tr><td>_timestamp</td><td>▁▂▃▃▄▅▆▇▇█</td></tr><tr><td>_step</td><td>▁▂▃▃▄▅▆▆▇█</td></tr></table><br/>"
            ],
            "text/plain": [
              "<IPython.core.display.HTML object>"
            ]
          },
          "metadata": {
            "tags": []
          }
        },
        {
          "output_type": "display_data",
          "data": {
            "text/html": [
              "Synced 5 W&B file(s), 1 media file(s), 2 artifact file(s) and 2 other file(s)"
            ],
            "text/plain": [
              "<IPython.core.display.HTML object>"
            ]
          },
          "metadata": {
            "tags": []
          }
        },
        {
          "output_type": "display_data",
          "data": {
            "text/html": [
              "\n",
              "                    <br/>Synced <strong style=\"color:#cdcd00\">snowy-sweep-1</strong>: <a href=\"https://wandb.ai/sanjeev-nimeesh/assignment_2/runs/d0fwtqnc\" target=\"_blank\">https://wandb.ai/sanjeev-nimeesh/assignment_2/runs/d0fwtqnc</a><br/>\n",
              "                "
            ],
            "text/plain": [
              "<IPython.core.display.HTML object>"
            ]
          },
          "metadata": {
            "tags": []
          }
        },
        {
          "output_type": "stream",
          "text": [
            "Run d0fwtqnc errored: UnboundLocalError(\"local variable 'val_acc' referenced before assignment\")\n",
            "\u001b[34m\u001b[1mwandb\u001b[0m: \u001b[32m\u001b[41mERROR\u001b[0m Run d0fwtqnc errored: UnboundLocalError(\"local variable 'val_acc' referenced before assignment\")\n",
            "\u001b[34m\u001b[1mwandb\u001b[0m: Agent Starting Run: 3hzx0ycg with config:\n",
            "\u001b[34m\u001b[1mwandb\u001b[0m: \taugmentation: no\n",
            "\u001b[34m\u001b[1mwandb\u001b[0m: \tbatchnorm: yes\n",
            "\u001b[34m\u001b[1mwandb\u001b[0m: \tdroprate: 0.3\n",
            "\u001b[34m\u001b[1mwandb\u001b[0m: \tfc_size: 64\n",
            "\u001b[34m\u001b[1mwandb\u001b[0m: \tfilters: inc\n"
          ],
          "name": "stderr"
        },
        {
          "output_type": "display_data",
          "data": {
            "text/html": [
              "\n",
              "                Tracking run with wandb version 0.10.25<br/>\n",
              "                Syncing run <strong style=\"color:#cdcd00\">woven-sweep-2</strong> to <a href=\"https://wandb.ai\" target=\"_blank\">Weights & Biases</a> <a href=\"https://docs.wandb.com/integrations/jupyter.html\" target=\"_blank\">(Documentation)</a>.<br/>\n",
              "                Project page: <a href=\"https://wandb.ai/sanjeev-nimeesh/assignment_2\" target=\"_blank\">https://wandb.ai/sanjeev-nimeesh/assignment_2</a><br/>\n",
              "                Sweep page: <a href=\"https://wandb.ai/sanjeev-nimeesh/assignment_2/sweeps/z4v5hj7c\" target=\"_blank\">https://wandb.ai/sanjeev-nimeesh/assignment_2/sweeps/z4v5hj7c</a><br/>\n",
              "Run page: <a href=\"https://wandb.ai/sanjeev-nimeesh/assignment_2/runs/3hzx0ycg\" target=\"_blank\">https://wandb.ai/sanjeev-nimeesh/assignment_2/runs/3hzx0ycg</a><br/>\n",
              "                Run data is saved locally in <code>/content/wandb/run-20210409_202445-3hzx0ycg</code><br/><br/>\n",
              "            "
            ],
            "text/plain": [
              "<IPython.core.display.HTML object>"
            ]
          },
          "metadata": {
            "tags": []
          }
        },
        {
          "output_type": "stream",
          "text": [
            "Found 9000 images belonging to 10 classes.\n",
            "Found 9000 images belonging to 10 classes.\n",
            "Found 999 images belonging to 10 classes.\n",
            "Epoch 1/10\n",
            "282/282 [==============================] - 142s 495ms/step - loss: 2.5145 - accuracy: 0.1753 - val_loss: 2.4227 - val_accuracy: 0.1672\n",
            "Epoch 2/10\n",
            "123/282 [============>.................] - ETA: 1:10 - loss: 2.1211 - accuracy: 0.2777"
          ],
          "name": "stdout"
        }
      ]
    },
    {
      "cell_type": "code",
      "metadata": {
        "id": "rlLUIdpHDMPe"
      },
      "source": [
        ""
      ],
      "execution_count": null,
      "outputs": []
    }
  ]
}
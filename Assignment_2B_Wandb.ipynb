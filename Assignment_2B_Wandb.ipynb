{
  "nbformat": 4,
  "nbformat_minor": 0,
  "metadata": {
    "colab": {
      "name": "Assignment_2B_Wandb.ipynb",
      "provenance": [],
      "collapsed_sections": [],
      "include_colab_link": true
    },
    "kernelspec": {
      "display_name": "Python 3",
      "name": "python3"
    },
    "language_info": {
      "name": "python"
    },
    "accelerator": "GPU",
    "widgets": {
      "application/vnd.jupyter.widget-state+json": {
        "b7c764f25b3443f5bfcf9ae3b0aaf8a5": {
          "model_module": "@jupyter-widgets/controls",
          "model_name": "VBoxModel",
          "state": {
            "_view_name": "VBoxView",
            "_dom_classes": [],
            "_model_name": "VBoxModel",
            "_view_module": "@jupyter-widgets/controls",
            "_model_module_version": "1.5.0",
            "_view_count": null,
            "_view_module_version": "1.5.0",
            "box_style": "",
            "layout": "IPY_MODEL_3f15c24b3891487090db8acff64656db",
            "_model_module": "@jupyter-widgets/controls",
            "children": [
              "IPY_MODEL_91ef9b074cfd4caa9376260ec53fee3b",
              "IPY_MODEL_8f6a145726de44ffb8cb015257ab0c18"
            ]
          }
        },
        "3f15c24b3891487090db8acff64656db": {
          "model_module": "@jupyter-widgets/base",
          "model_name": "LayoutModel",
          "state": {
            "_view_name": "LayoutView",
            "grid_template_rows": null,
            "right": null,
            "justify_content": null,
            "_view_module": "@jupyter-widgets/base",
            "overflow": null,
            "_model_module_version": "1.2.0",
            "_view_count": null,
            "flex_flow": null,
            "width": null,
            "min_width": null,
            "border": null,
            "align_items": null,
            "bottom": null,
            "_model_module": "@jupyter-widgets/base",
            "top": null,
            "grid_column": null,
            "overflow_y": null,
            "overflow_x": null,
            "grid_auto_flow": null,
            "grid_area": null,
            "grid_template_columns": null,
            "flex": null,
            "_model_name": "LayoutModel",
            "justify_items": null,
            "grid_row": null,
            "max_height": null,
            "align_content": null,
            "visibility": null,
            "align_self": null,
            "height": null,
            "min_height": null,
            "padding": null,
            "grid_auto_rows": null,
            "grid_gap": null,
            "max_width": null,
            "order": null,
            "_view_module_version": "1.2.0",
            "grid_template_areas": null,
            "object_position": null,
            "object_fit": null,
            "grid_auto_columns": null,
            "margin": null,
            "display": null,
            "left": null
          }
        },
        "91ef9b074cfd4caa9376260ec53fee3b": {
          "model_module": "@jupyter-widgets/controls",
          "model_name": "LabelModel",
          "state": {
            "_view_name": "LabelView",
            "style": "IPY_MODEL_47be3afe87c04a588cdd6bf7e8ef6aaf",
            "_dom_classes": [],
            "description": "",
            "_model_name": "LabelModel",
            "placeholder": "​",
            "_view_module": "@jupyter-widgets/controls",
            "_model_module_version": "1.5.0",
            "value": " 352.70MB of 352.70MB uploaded (0.00MB deduped)\r",
            "_view_count": null,
            "_view_module_version": "1.5.0",
            "description_tooltip": null,
            "_model_module": "@jupyter-widgets/controls",
            "layout": "IPY_MODEL_14339a7e150a489cb7ab902bc206fd5a"
          }
        },
        "8f6a145726de44ffb8cb015257ab0c18": {
          "model_module": "@jupyter-widgets/controls",
          "model_name": "FloatProgressModel",
          "state": {
            "_view_name": "ProgressView",
            "style": "IPY_MODEL_63e6aa1b42004be0871ef798784610c6",
            "_dom_classes": [],
            "description": "",
            "_model_name": "FloatProgressModel",
            "bar_style": "",
            "max": 1,
            "_view_module": "@jupyter-widgets/controls",
            "_model_module_version": "1.5.0",
            "value": 1,
            "_view_count": null,
            "_view_module_version": "1.5.0",
            "orientation": "horizontal",
            "min": 0,
            "description_tooltip": null,
            "_model_module": "@jupyter-widgets/controls",
            "layout": "IPY_MODEL_45395128dd884caabf24865a50221a5f"
          }
        },
        "47be3afe87c04a588cdd6bf7e8ef6aaf": {
          "model_module": "@jupyter-widgets/controls",
          "model_name": "DescriptionStyleModel",
          "state": {
            "_view_name": "StyleView",
            "_model_name": "DescriptionStyleModel",
            "description_width": "",
            "_view_module": "@jupyter-widgets/base",
            "_model_module_version": "1.5.0",
            "_view_count": null,
            "_view_module_version": "1.2.0",
            "_model_module": "@jupyter-widgets/controls"
          }
        },
        "14339a7e150a489cb7ab902bc206fd5a": {
          "model_module": "@jupyter-widgets/base",
          "model_name": "LayoutModel",
          "state": {
            "_view_name": "LayoutView",
            "grid_template_rows": null,
            "right": null,
            "justify_content": null,
            "_view_module": "@jupyter-widgets/base",
            "overflow": null,
            "_model_module_version": "1.2.0",
            "_view_count": null,
            "flex_flow": null,
            "width": null,
            "min_width": null,
            "border": null,
            "align_items": null,
            "bottom": null,
            "_model_module": "@jupyter-widgets/base",
            "top": null,
            "grid_column": null,
            "overflow_y": null,
            "overflow_x": null,
            "grid_auto_flow": null,
            "grid_area": null,
            "grid_template_columns": null,
            "flex": null,
            "_model_name": "LayoutModel",
            "justify_items": null,
            "grid_row": null,
            "max_height": null,
            "align_content": null,
            "visibility": null,
            "align_self": null,
            "height": null,
            "min_height": null,
            "padding": null,
            "grid_auto_rows": null,
            "grid_gap": null,
            "max_width": null,
            "order": null,
            "_view_module_version": "1.2.0",
            "grid_template_areas": null,
            "object_position": null,
            "object_fit": null,
            "grid_auto_columns": null,
            "margin": null,
            "display": null,
            "left": null
          }
        },
        "63e6aa1b42004be0871ef798784610c6": {
          "model_module": "@jupyter-widgets/controls",
          "model_name": "ProgressStyleModel",
          "state": {
            "_view_name": "StyleView",
            "_model_name": "ProgressStyleModel",
            "description_width": "",
            "_view_module": "@jupyter-widgets/base",
            "_model_module_version": "1.5.0",
            "_view_count": null,
            "_view_module_version": "1.2.0",
            "bar_color": null,
            "_model_module": "@jupyter-widgets/controls"
          }
        },
        "45395128dd884caabf24865a50221a5f": {
          "model_module": "@jupyter-widgets/base",
          "model_name": "LayoutModel",
          "state": {
            "_view_name": "LayoutView",
            "grid_template_rows": null,
            "right": null,
            "justify_content": null,
            "_view_module": "@jupyter-widgets/base",
            "overflow": null,
            "_model_module_version": "1.2.0",
            "_view_count": null,
            "flex_flow": null,
            "width": null,
            "min_width": null,
            "border": null,
            "align_items": null,
            "bottom": null,
            "_model_module": "@jupyter-widgets/base",
            "top": null,
            "grid_column": null,
            "overflow_y": null,
            "overflow_x": null,
            "grid_auto_flow": null,
            "grid_area": null,
            "grid_template_columns": null,
            "flex": null,
            "_model_name": "LayoutModel",
            "justify_items": null,
            "grid_row": null,
            "max_height": null,
            "align_content": null,
            "visibility": null,
            "align_self": null,
            "height": null,
            "min_height": null,
            "padding": null,
            "grid_auto_rows": null,
            "grid_gap": null,
            "max_width": null,
            "order": null,
            "_view_module_version": "1.2.0",
            "grid_template_areas": null,
            "object_position": null,
            "object_fit": null,
            "grid_auto_columns": null,
            "margin": null,
            "display": null,
            "left": null
          }
        },
        "038b4d032e9e424ba87af8db3307ef77": {
          "model_module": "@jupyter-widgets/controls",
          "model_name": "VBoxModel",
          "state": {
            "_view_name": "VBoxView",
            "_dom_classes": [],
            "_model_name": "VBoxModel",
            "_view_module": "@jupyter-widgets/controls",
            "_model_module_version": "1.5.0",
            "_view_count": null,
            "_view_module_version": "1.5.0",
            "box_style": "",
            "layout": "IPY_MODEL_66c0d8f81b8c42ed9c5a0b9e9de9c71b",
            "_model_module": "@jupyter-widgets/controls",
            "children": [
              "IPY_MODEL_47b301077cbc456d8231e1cbe75463dc",
              "IPY_MODEL_4593c6c69f4343568705a797e77d6adf"
            ]
          }
        },
        "66c0d8f81b8c42ed9c5a0b9e9de9c71b": {
          "model_module": "@jupyter-widgets/base",
          "model_name": "LayoutModel",
          "state": {
            "_view_name": "LayoutView",
            "grid_template_rows": null,
            "right": null,
            "justify_content": null,
            "_view_module": "@jupyter-widgets/base",
            "overflow": null,
            "_model_module_version": "1.2.0",
            "_view_count": null,
            "flex_flow": null,
            "width": null,
            "min_width": null,
            "border": null,
            "align_items": null,
            "bottom": null,
            "_model_module": "@jupyter-widgets/base",
            "top": null,
            "grid_column": null,
            "overflow_y": null,
            "overflow_x": null,
            "grid_auto_flow": null,
            "grid_area": null,
            "grid_template_columns": null,
            "flex": null,
            "_model_name": "LayoutModel",
            "justify_items": null,
            "grid_row": null,
            "max_height": null,
            "align_content": null,
            "visibility": null,
            "align_self": null,
            "height": null,
            "min_height": null,
            "padding": null,
            "grid_auto_rows": null,
            "grid_gap": null,
            "max_width": null,
            "order": null,
            "_view_module_version": "1.2.0",
            "grid_template_areas": null,
            "object_position": null,
            "object_fit": null,
            "grid_auto_columns": null,
            "margin": null,
            "display": null,
            "left": null
          }
        },
        "47b301077cbc456d8231e1cbe75463dc": {
          "model_module": "@jupyter-widgets/controls",
          "model_name": "LabelModel",
          "state": {
            "_view_name": "LabelView",
            "style": "IPY_MODEL_4131070f9b984e959282dc013636b234",
            "_dom_classes": [],
            "description": "",
            "_model_name": "LabelModel",
            "placeholder": "​",
            "_view_module": "@jupyter-widgets/controls",
            "_model_module_version": "1.5.0",
            "value": " 380.12MB of 380.12MB uploaded (0.00MB deduped)\r",
            "_view_count": null,
            "_view_module_version": "1.5.0",
            "description_tooltip": null,
            "_model_module": "@jupyter-widgets/controls",
            "layout": "IPY_MODEL_e504c5dfd60c4261a547e3cfca70e3e0"
          }
        },
        "4593c6c69f4343568705a797e77d6adf": {
          "model_module": "@jupyter-widgets/controls",
          "model_name": "FloatProgressModel",
          "state": {
            "_view_name": "ProgressView",
            "style": "IPY_MODEL_69b549f2415246ec8f258481c9293888",
            "_dom_classes": [],
            "description": "",
            "_model_name": "FloatProgressModel",
            "bar_style": "",
            "max": 1,
            "_view_module": "@jupyter-widgets/controls",
            "_model_module_version": "1.5.0",
            "value": 1,
            "_view_count": null,
            "_view_module_version": "1.5.0",
            "orientation": "horizontal",
            "min": 0,
            "description_tooltip": null,
            "_model_module": "@jupyter-widgets/controls",
            "layout": "IPY_MODEL_b32e66160edf49b194be1df6ce7f534a"
          }
        },
        "4131070f9b984e959282dc013636b234": {
          "model_module": "@jupyter-widgets/controls",
          "model_name": "DescriptionStyleModel",
          "state": {
            "_view_name": "StyleView",
            "_model_name": "DescriptionStyleModel",
            "description_width": "",
            "_view_module": "@jupyter-widgets/base",
            "_model_module_version": "1.5.0",
            "_view_count": null,
            "_view_module_version": "1.2.0",
            "_model_module": "@jupyter-widgets/controls"
          }
        },
        "e504c5dfd60c4261a547e3cfca70e3e0": {
          "model_module": "@jupyter-widgets/base",
          "model_name": "LayoutModel",
          "state": {
            "_view_name": "LayoutView",
            "grid_template_rows": null,
            "right": null,
            "justify_content": null,
            "_view_module": "@jupyter-widgets/base",
            "overflow": null,
            "_model_module_version": "1.2.0",
            "_view_count": null,
            "flex_flow": null,
            "width": null,
            "min_width": null,
            "border": null,
            "align_items": null,
            "bottom": null,
            "_model_module": "@jupyter-widgets/base",
            "top": null,
            "grid_column": null,
            "overflow_y": null,
            "overflow_x": null,
            "grid_auto_flow": null,
            "grid_area": null,
            "grid_template_columns": null,
            "flex": null,
            "_model_name": "LayoutModel",
            "justify_items": null,
            "grid_row": null,
            "max_height": null,
            "align_content": null,
            "visibility": null,
            "align_self": null,
            "height": null,
            "min_height": null,
            "padding": null,
            "grid_auto_rows": null,
            "grid_gap": null,
            "max_width": null,
            "order": null,
            "_view_module_version": "1.2.0",
            "grid_template_areas": null,
            "object_position": null,
            "object_fit": null,
            "grid_auto_columns": null,
            "margin": null,
            "display": null,
            "left": null
          }
        },
        "69b549f2415246ec8f258481c9293888": {
          "model_module": "@jupyter-widgets/controls",
          "model_name": "ProgressStyleModel",
          "state": {
            "_view_name": "StyleView",
            "_model_name": "ProgressStyleModel",
            "description_width": "",
            "_view_module": "@jupyter-widgets/base",
            "_model_module_version": "1.5.0",
            "_view_count": null,
            "_view_module_version": "1.2.0",
            "bar_color": null,
            "_model_module": "@jupyter-widgets/controls"
          }
        },
        "b32e66160edf49b194be1df6ce7f534a": {
          "model_module": "@jupyter-widgets/base",
          "model_name": "LayoutModel",
          "state": {
            "_view_name": "LayoutView",
            "grid_template_rows": null,
            "right": null,
            "justify_content": null,
            "_view_module": "@jupyter-widgets/base",
            "overflow": null,
            "_model_module_version": "1.2.0",
            "_view_count": null,
            "flex_flow": null,
            "width": null,
            "min_width": null,
            "border": null,
            "align_items": null,
            "bottom": null,
            "_model_module": "@jupyter-widgets/base",
            "top": null,
            "grid_column": null,
            "overflow_y": null,
            "overflow_x": null,
            "grid_auto_flow": null,
            "grid_area": null,
            "grid_template_columns": null,
            "flex": null,
            "_model_name": "LayoutModel",
            "justify_items": null,
            "grid_row": null,
            "max_height": null,
            "align_content": null,
            "visibility": null,
            "align_self": null,
            "height": null,
            "min_height": null,
            "padding": null,
            "grid_auto_rows": null,
            "grid_gap": null,
            "max_width": null,
            "order": null,
            "_view_module_version": "1.2.0",
            "grid_template_areas": null,
            "object_position": null,
            "object_fit": null,
            "grid_auto_columns": null,
            "margin": null,
            "display": null,
            "left": null
          }
        }
      }
    }
  },
  "cells": [
    {
      "cell_type": "markdown",
      "metadata": {
        "id": "view-in-github",
        "colab_type": "text"
      },
      "source": [
        "<a href=\"https://colab.research.google.com/github/sanjeevrs2000/CS6910-Assignment-2/blob/main/Assignment_2B_Wandb.ipynb\" target=\"_parent\"><img src=\"https://colab.research.google.com/assets/colab-badge.svg\" alt=\"Open In Colab\"/></a>"
      ]
    },
    {
      "cell_type": "code",
      "metadata": {
        "id": "zN6WvKauHCsk",
        "colab": {
          "base_uri": "https://localhost:8080/"
        },
        "outputId": "4d7269a9-4e81-4b2b-bdf7-5a8195daace3"
      },
      "source": [
        "#!pip install wandb"
      ],
      "execution_count": null,
      "outputs": [
        {
          "output_type": "stream",
          "text": [
            "Collecting wandb\n",
            "\u001b[?25l  Downloading https://files.pythonhosted.org/packages/47/af/4cfe48fe55046181b992251933cff4ceb3bfd71a42838f5fe683683cd925/wandb-0.10.25-py2.py3-none-any.whl (2.1MB)\n",
            "\u001b[K     |████████████████████████████████| 2.1MB 19.2MB/s \n",
            "\u001b[?25hRequirement already satisfied: requests<3,>=2.0.0 in /usr/local/lib/python3.7/dist-packages (from wandb) (2.23.0)\n",
            "Collecting sentry-sdk>=0.4.0\n",
            "\u001b[?25l  Downloading https://files.pythonhosted.org/packages/f3/92/5a33be64990ba815364a8f2dd9e6f51de60d23dfddafb4f1fc5577d4dc64/sentry_sdk-1.0.0-py2.py3-none-any.whl (131kB)\n",
            "\u001b[K     |████████████████████████████████| 133kB 59.2MB/s \n",
            "\u001b[?25hCollecting docker-pycreds>=0.4.0\n",
            "  Downloading https://files.pythonhosted.org/packages/f5/e8/f6bd1eee09314e7e6dee49cbe2c5e22314ccdb38db16c9fc72d2fa80d054/docker_pycreds-0.4.0-py2.py3-none-any.whl\n",
            "Collecting subprocess32>=3.5.3\n",
            "\u001b[?25l  Downloading https://files.pythonhosted.org/packages/32/c8/564be4d12629b912ea431f1a50eb8b3b9d00f1a0b1ceff17f266be190007/subprocess32-3.5.4.tar.gz (97kB)\n",
            "\u001b[K     |████████████████████████████████| 102kB 14.0MB/s \n",
            "\u001b[?25hRequirement already satisfied: psutil>=5.0.0 in /usr/local/lib/python3.7/dist-packages (from wandb) (5.4.8)\n",
            "Collecting GitPython>=1.0.0\n",
            "\u001b[?25l  Downloading https://files.pythonhosted.org/packages/a6/99/98019716955ba243657daedd1de8f3a88ca1f5b75057c38e959db22fb87b/GitPython-3.1.14-py3-none-any.whl (159kB)\n",
            "\u001b[K     |████████████████████████████████| 163kB 54.3MB/s \n",
            "\u001b[?25hRequirement already satisfied: protobuf>=3.12.0 in /usr/local/lib/python3.7/dist-packages (from wandb) (3.12.4)\n",
            "Requirement already satisfied: python-dateutil>=2.6.1 in /usr/local/lib/python3.7/dist-packages (from wandb) (2.8.1)\n",
            "Collecting pathtools\n",
            "  Downloading https://files.pythonhosted.org/packages/e7/7f/470d6fcdf23f9f3518f6b0b76be9df16dcc8630ad409947f8be2eb0ed13a/pathtools-0.1.2.tar.gz\n",
            "Collecting shortuuid>=0.5.0\n",
            "  Downloading https://files.pythonhosted.org/packages/25/a6/2ecc1daa6a304e7f1b216f0896b26156b78e7c38e1211e9b798b4716c53d/shortuuid-1.0.1-py3-none-any.whl\n",
            "Requirement already satisfied: Click>=7.0 in /usr/local/lib/python3.7/dist-packages (from wandb) (7.1.2)\n",
            "Requirement already satisfied: PyYAML in /usr/local/lib/python3.7/dist-packages (from wandb) (3.13)\n",
            "Requirement already satisfied: six>=1.13.0 in /usr/local/lib/python3.7/dist-packages (from wandb) (1.15.0)\n",
            "Collecting configparser>=3.8.1\n",
            "  Downloading https://files.pythonhosted.org/packages/fd/01/ff260a18caaf4457eb028c96eeb405c4a230ca06c8ec9c1379f813caa52e/configparser-5.0.2-py3-none-any.whl\n",
            "Requirement already satisfied: promise<3,>=2.0 in /usr/local/lib/python3.7/dist-packages (from wandb) (2.3)\n",
            "Requirement already satisfied: urllib3!=1.25.0,!=1.25.1,<1.26,>=1.21.1 in /usr/local/lib/python3.7/dist-packages (from requests<3,>=2.0.0->wandb) (1.24.3)\n",
            "Requirement already satisfied: chardet<4,>=3.0.2 in /usr/local/lib/python3.7/dist-packages (from requests<3,>=2.0.0->wandb) (3.0.4)\n",
            "Requirement already satisfied: certifi>=2017.4.17 in /usr/local/lib/python3.7/dist-packages (from requests<3,>=2.0.0->wandb) (2020.12.5)\n",
            "Requirement already satisfied: idna<3,>=2.5 in /usr/local/lib/python3.7/dist-packages (from requests<3,>=2.0.0->wandb) (2.10)\n",
            "Collecting gitdb<5,>=4.0.1\n",
            "\u001b[?25l  Downloading https://files.pythonhosted.org/packages/ea/e8/f414d1a4f0bbc668ed441f74f44c116d9816833a48bf81d22b697090dba8/gitdb-4.0.7-py3-none-any.whl (63kB)\n",
            "\u001b[K     |████████████████████████████████| 71kB 10.8MB/s \n",
            "\u001b[?25hRequirement already satisfied: setuptools in /usr/local/lib/python3.7/dist-packages (from protobuf>=3.12.0->wandb) (54.2.0)\n",
            "Collecting smmap<5,>=3.0.1\n",
            "  Downloading https://files.pythonhosted.org/packages/68/ee/d540eb5e5996eb81c26ceffac6ee49041d473bc5125f2aa995cf51ec1cf1/smmap-4.0.0-py2.py3-none-any.whl\n",
            "Building wheels for collected packages: subprocess32, pathtools\n",
            "  Building wheel for subprocess32 (setup.py) ... \u001b[?25l\u001b[?25hdone\n",
            "  Created wheel for subprocess32: filename=subprocess32-3.5.4-cp37-none-any.whl size=6489 sha256=72fa4abed9d247d7dbf829abd0475440475010eb83387c8f91acad8689402331\n",
            "  Stored in directory: /root/.cache/pip/wheels/68/39/1a/5e402bdfdf004af1786c8b853fd92f8c4a04f22aad179654d1\n",
            "  Building wheel for pathtools (setup.py) ... \u001b[?25l\u001b[?25hdone\n",
            "  Created wheel for pathtools: filename=pathtools-0.1.2-cp37-none-any.whl size=8786 sha256=453a118810ee0e016e0629461da31ff76931a2e5fe57116fd91f725bcf1e10c3\n",
            "  Stored in directory: /root/.cache/pip/wheels/0b/04/79/c3b0c3a0266a3cb4376da31e5bfe8bba0c489246968a68e843\n",
            "Successfully built subprocess32 pathtools\n",
            "Installing collected packages: sentry-sdk, docker-pycreds, subprocess32, smmap, gitdb, GitPython, pathtools, shortuuid, configparser, wandb\n",
            "Successfully installed GitPython-3.1.14 configparser-5.0.2 docker-pycreds-0.4.0 gitdb-4.0.7 pathtools-0.1.2 sentry-sdk-1.0.0 shortuuid-1.0.1 smmap-4.0.0 subprocess32-3.5.4 wandb-0.10.25\n"
          ],
          "name": "stdout"
        }
      ]
    },
    {
      "cell_type": "code",
      "metadata": {
        "id": "TNuE6MpNFuEF"
      },
      "source": [
        "import numpy as np\n",
        "import pandas as pd\n",
        "import os\n",
        "import keras\n",
        "import tensorflow as tf\n",
        "from tensorflow.keras import layers,models\n",
        "from tensorflow.keras.layers import Conv2D, MaxPooling2D, Dropout, Dense, Flatten, Activation , BatchNormalization\n",
        "from tensorflow.keras.preprocessing.image import ImageDataGenerator\n",
        "import matplotlib.pyplot as plt\n",
        "import cv2\n",
        "#import wandb\n",
        "#from wandb.keras import WandbCallback"
      ],
      "execution_count": 1,
      "outputs": []
    },
    {
      "cell_type": "code",
      "metadata": {
        "id": "UX5ynRejyZvc"
      },
      "source": [
        "from keras.applications.vgg16 import VGG16\n",
        "from keras.applications.inception_v3 import InceptionV3\n",
        "from keras.applications.inception_resnet_v2 import InceptionResNetV2\n",
        "from keras.applications.resnet50 import ResNet50\n",
        "from keras.applications.xception import Xception"
      ],
      "execution_count": 2,
      "outputs": []
    },
    {
      "cell_type": "code",
      "metadata": {
        "id": "VcXuL4wGG893"
      },
      "source": [
        "%%capture\n",
        "!curl -SL https://storage.googleapis.com/wandb_datasets/nature_12K.zip > nature_12K.zip\n",
        "!unzip nature_12K.zip\n",
        "\n",
        "train_dir='inaturalist_12K/train/'\n",
        "test_dir='inaturalist_12K/val/'\n",
        "categories=['Amphibia','Animalia','Arachnida','Aves','Fungi','Insecta','Mammalia','Mollusca','Plantae','Reptilia']"
      ],
      "execution_count": 3,
      "outputs": []
    },
    {
      "cell_type": "code",
      "metadata": {
        "id": "0vS7KdPEzPVq"
      },
      "source": [
        "#Run this cell\n",
        "\n",
        "sweep_config = {\n",
        "  'name': 'sweep5b',  \n",
        "  'method': 'grid',\n",
        "  'parameters': {\n",
        "        \n",
        "        \n",
        "        'fc_size':{\n",
        "            'values':[128]\n",
        "        },\n",
        "        'batchnorm':{\n",
        "            'values':['yes']\n",
        "        },\n",
        "        'augmentation':{\n",
        "            'values':['yes']   \n",
        "        },\n",
        "        'droprate':{\n",
        "            'values':[0.4]\n",
        "        },\n",
        "        'pre_train':{\n",
        "            'values':['inceptionresnetv2','Xception']\n",
        "        }\n",
        "\n",
        "           \n",
        "    }\n",
        "\n",
        "}\n",
        "\n",
        "#this config gives best val accuracy\n",
        "config_defaults={\n",
        "    'fc_size':128,\n",
        "    'batchnorm':'yes',\n",
        "    'augmentation':'yes',\n",
        "    'droprate':0.4,\n",
        "    'pre_train':'inceptionresnetv2'\n",
        "}"
      ],
      "execution_count": 4,
      "outputs": []
    },
    {
      "cell_type": "code",
      "metadata": {
        "id": "SsElcmRUBU3v"
      },
      "source": [
        "#Run this cell for Wandb after uncommenting\n",
        "\n",
        "def PreTrain():\n",
        "\n",
        "  #wandb init and log commented to do trial run\n",
        "\n",
        "  #wandb.init(config=config_defaults)\n",
        "  #configs=wandb.config\n",
        "\n",
        "  configs=config_defaults\n",
        "\n",
        "  batchnorm=configs['batchnorm']\n",
        "  droprate=configs['droprate']\n",
        "  augmentation=configs['augmentation']\n",
        "  fc_size=configs['fc_size']\n",
        "  pre_train = configs['pre_train']\n",
        "\n",
        "  #wandb.run.name='model_'+pre_train+'_fc_2_size_'+str(fc_size)+'_droprate_'+str(droprate)+ str('_bn_' if batchnorm=='yes' else '') +str('augment' if augmentation=='yes' else '')\n",
        "\n",
        "\n",
        "  if pre_train == 'inceptionv3':\n",
        "    img_height = 299\n",
        "    img_width = 299\n",
        "    base_model = InceptionV3(include_top=False, weights='imagenet',input_shape=(img_height, img_width,3))\n",
        "\n",
        "  if pre_train == 'inceptionresnetv2':\n",
        "    img_height = 299\n",
        "    img_width = 299\n",
        "    base_model = InceptionResNetV2(include_top=False, weights='imagenet',input_shape=(img_height, img_width,3))\n",
        "\n",
        "  if pre_train == 'resnet50':\n",
        "    img_height = 224\n",
        "    img_width = 224\n",
        "    base_model = ResNet50(include_top=False, weights='imagenet',input_shape=(img_height, img_width,3))\n",
        "\n",
        "  if pre_train == 'Xception':\n",
        "    img_height = 299\n",
        "    img_width = 299\n",
        "    base_model = Xception(include_top=False, weights='imagenet',input_shape=(img_height, img_width,3))  \n",
        "\n",
        "\n",
        "  for layers in base_model.layers:\n",
        "    layers.trainable = False\n",
        "\n",
        "  model = keras.Sequential([\n",
        "      tf.keras.Input(shape=(img_height, img_width,3,)),\n",
        "      base_model,\n",
        "      Flatten(),\n",
        "      Dense(fc_size,activation='relu'),\n",
        "      \n",
        "  ])\n",
        "  if batchnorm == 'yes':\n",
        "    model.add(BatchNormalization())\n",
        "  model.add(Dropout(droprate))\n",
        "  model.add(Dense(fc_size, activation='relu'))\n",
        "  model.add(Dropout(droprate))\n",
        "  model.add(Dense(10 ,activation='softmax'))\n",
        "  \n",
        "\n",
        "  #data generators for train(with and without validation) and validation\n",
        "  augment= ImageDataGenerator(\n",
        "    rotation_range=30,\n",
        "    width_shift_range=0.2,\n",
        "    height_shift_range=0.2,\n",
        "    zoom_range=0.2,\n",
        "    horizontal_flip=True,\n",
        "    rescale=1.0 / 255,\n",
        "    validation_split=0.1,\n",
        "    dtype=tf.float32,\n",
        "  )\n",
        "\n",
        "  datagen = ImageDataGenerator(\n",
        "    rescale=1.0 / 255,\n",
        "    validation_split=0.1,\n",
        "    dtype=tf.float32,\n",
        "  )\n",
        "\n",
        "  train_set = datagen.flow_from_directory(\n",
        "    train_dir,\n",
        "    target_size=(img_height, img_width),\n",
        "    batch_size=32,\n",
        "    color_mode='rgb',\n",
        "    class_mode='sparse',\n",
        "    shuffle=True,\n",
        "    subset='training',\n",
        "    seed=123,\n",
        "  )\n",
        "\n",
        "  aug_set = augment.flow_from_directory(\n",
        "      train_dir,\n",
        "      target_size=(img_height, img_width),\n",
        "      batch_size=32,\n",
        "      color_mode='rgb',\n",
        "      class_mode='sparse',\n",
        "      shuffle=True,\n",
        "      subset='training',\n",
        "      seed=123,\n",
        "  )\n",
        "\n",
        "  val_set = datagen.flow_from_directory(\n",
        "      train_dir,\n",
        "      target_size=(img_height, img_width),\n",
        "      color_mode='rgb',\n",
        "      class_mode='sparse',\n",
        "      shuffle=True,\n",
        "      subset='validation',\n",
        "      seed=123,\n",
        "  )\n",
        "\n",
        "  model.compile(\n",
        "    optimizer=tf.keras.optimizers.Adam(),\n",
        "    loss=[tf.keras.losses.SparseCategoricalCrossentropy()],\n",
        "    metrics=['accuracy'],\n",
        "  )\n",
        "\n",
        "  if augmentation =='no' :\n",
        "    #hist=model.fit(train_set,epochs=10,validation_data=val_set,callbacks=[WandbCallback()]) \n",
        "    hist=model.fit(train_set,epochs=10,validation_data=val_set)\n",
        "  \n",
        "  else:\n",
        "    #hist=model.fit(aug_set,epochs=10,validation_data=val_set,callbacks=[WandbCallback()])\n",
        "    hist=model.fit(aug_set,epochs=10,validation_data=val_set)\n",
        "\n",
        "\n",
        "  val_acc=max(hist.history['val_accuracy'])\n",
        "  params={'batch_norm':batchnorm,'augmentation':augmentation,'dropout':droprate,'pre_trained_model':pre_train,'val_acc':val_acc}\n",
        "  #wandb.log(params)\n",
        "  "
      ],
      "execution_count": null,
      "outputs": []
    },
    {
      "cell_type": "code",
      "metadata": {
        "colab": {
          "base_uri": "https://localhost:8080/",
          "height": 1000,
          "referenced_widgets": [
            "b7c764f25b3443f5bfcf9ae3b0aaf8a5",
            "3f15c24b3891487090db8acff64656db",
            "91ef9b074cfd4caa9376260ec53fee3b",
            "8f6a145726de44ffb8cb015257ab0c18",
            "47be3afe87c04a588cdd6bf7e8ef6aaf",
            "14339a7e150a489cb7ab902bc206fd5a",
            "63e6aa1b42004be0871ef798784610c6",
            "45395128dd884caabf24865a50221a5f",
            "038b4d032e9e424ba87af8db3307ef77",
            "66c0d8f81b8c42ed9c5a0b9e9de9c71b",
            "47b301077cbc456d8231e1cbe75463dc",
            "4593c6c69f4343568705a797e77d6adf",
            "4131070f9b984e959282dc013636b234",
            "e504c5dfd60c4261a547e3cfca70e3e0",
            "69b549f2415246ec8f258481c9293888",
            "b32e66160edf49b194be1df6ce7f534a"
          ]
        },
        "id": "u3vt5VfOBUua",
        "outputId": "e84e6eb9-96b9-44d2-b54f-26f14a334620"
      },
      "source": [
        "#Ignore this and proceed\n",
        "#sweep_id=wandb.sweep(sweep_config,entity='sanjeev-nimeesh',project='assignment_2')\n",
        "#wandb.agent(sweep_id, PreTrain)   "
      ],
      "execution_count": null,
      "outputs": [
        {
          "output_type": "display_data",
          "data": {
            "application/javascript": [
              "\n",
              "        window._wandbApiKey = new Promise((resolve, reject) => {\n",
              "            function loadScript(url) {\n",
              "            return new Promise(function(resolve, reject) {\n",
              "                let newScript = document.createElement(\"script\");\n",
              "                newScript.onerror = reject;\n",
              "                newScript.onload = resolve;\n",
              "                document.body.appendChild(newScript);\n",
              "                newScript.src = url;\n",
              "            });\n",
              "            }\n",
              "            loadScript(\"https://cdn.jsdelivr.net/npm/postmate/build/postmate.min.js\").then(() => {\n",
              "            const iframe = document.createElement('iframe')\n",
              "            iframe.style.cssText = \"width:0;height:0;border:none\"\n",
              "            document.body.appendChild(iframe)\n",
              "            const handshake = new Postmate({\n",
              "                container: iframe,\n",
              "                url: 'https://wandb.ai/authorize'\n",
              "            });\n",
              "            const timeout = setTimeout(() => reject(\"Couldn't auto authenticate\"), 5000)\n",
              "            handshake.then(function(child) {\n",
              "                child.on('authorize', data => {\n",
              "                    clearTimeout(timeout)\n",
              "                    resolve(data)\n",
              "                });\n",
              "            });\n",
              "            })\n",
              "        });\n",
              "    "
            ],
            "text/plain": [
              "<IPython.core.display.Javascript object>"
            ]
          },
          "metadata": {
            "tags": []
          }
        },
        {
          "output_type": "stream",
          "text": [
            "\u001b[34m\u001b[1mwandb\u001b[0m: Appending key for api.wandb.ai to your netrc file: /root/.netrc\n"
          ],
          "name": "stderr"
        },
        {
          "output_type": "stream",
          "text": [
            "Create sweep with ID: xqg252wy\n",
            "Sweep URL: https://wandb.ai/sanjeev-nimeesh/assignment_2/sweeps/xqg252wy\n"
          ],
          "name": "stdout"
        },
        {
          "output_type": "stream",
          "text": [
            "\u001b[34m\u001b[1mwandb\u001b[0m: Agent Starting Run: p5k0yj6c with config:\n",
            "\u001b[34m\u001b[1mwandb\u001b[0m: \taugmentation: yes\n",
            "\u001b[34m\u001b[1mwandb\u001b[0m: \tbatchnorm: yes\n",
            "\u001b[34m\u001b[1mwandb\u001b[0m: \tdroprate: 0.4\n",
            "\u001b[34m\u001b[1mwandb\u001b[0m: \tfc_size: 128\n",
            "\u001b[34m\u001b[1mwandb\u001b[0m: \tpre_train: inceptionresnetv2\n",
            "\u001b[34m\u001b[1mwandb\u001b[0m: Currently logged in as: \u001b[33msanjeev-nimeesh\u001b[0m (use `wandb login --relogin` to force relogin)\n"
          ],
          "name": "stderr"
        },
        {
          "output_type": "display_data",
          "data": {
            "text/html": [
              "\n",
              "                Tracking run with wandb version 0.10.25<br/>\n",
              "                Syncing run <strong style=\"color:#cdcd00\">solar-sweep-1</strong> to <a href=\"https://wandb.ai\" target=\"_blank\">Weights & Biases</a> <a href=\"https://docs.wandb.com/integrations/jupyter.html\" target=\"_blank\">(Documentation)</a>.<br/>\n",
              "                Project page: <a href=\"https://wandb.ai/sanjeev-nimeesh/assignment_2\" target=\"_blank\">https://wandb.ai/sanjeev-nimeesh/assignment_2</a><br/>\n",
              "                Sweep page: <a href=\"https://wandb.ai/sanjeev-nimeesh/assignment_2/sweeps/xqg252wy\" target=\"_blank\">https://wandb.ai/sanjeev-nimeesh/assignment_2/sweeps/xqg252wy</a><br/>\n",
              "Run page: <a href=\"https://wandb.ai/sanjeev-nimeesh/assignment_2/runs/p5k0yj6c\" target=\"_blank\">https://wandb.ai/sanjeev-nimeesh/assignment_2/runs/p5k0yj6c</a><br/>\n",
              "                Run data is saved locally in <code>/content/wandb/run-20210411_135743-p5k0yj6c</code><br/><br/>\n",
              "            "
            ],
            "text/plain": [
              "<IPython.core.display.HTML object>"
            ]
          },
          "metadata": {
            "tags": []
          }
        },
        {
          "output_type": "stream",
          "text": [
            "Downloading data from https://storage.googleapis.com/tensorflow/keras-applications/inception_resnet_v2/inception_resnet_v2_weights_tf_dim_ordering_tf_kernels_notop.h5\n",
            "219062272/219055592 [==============================] - 4s 0us/step\n",
            "Found 9000 images belonging to 10 classes.\n",
            "Found 9000 images belonging to 10 classes.\n",
            "Found 999 images belonging to 10 classes.\n",
            "Epoch 1/10\n",
            "282/282 [==============================] - 455s 1s/step - loss: 1.7072 - accuracy: 0.4624 - val_loss: 0.6156 - val_accuracy: 0.8108\n",
            "Epoch 2/10\n",
            "282/282 [==============================] - 412s 1s/step - loss: 0.9484 - accuracy: 0.7123 - val_loss: 0.5922 - val_accuracy: 0.8128\n",
            "Epoch 3/10\n",
            "282/282 [==============================] - 397s 1s/step - loss: 0.7925 - accuracy: 0.7502 - val_loss: 0.5909 - val_accuracy: 0.8188\n",
            "Epoch 4/10\n",
            "282/282 [==============================] - 399s 1s/step - loss: 0.7881 - accuracy: 0.7508 - val_loss: 0.5601 - val_accuracy: 0.8268\n",
            "Epoch 5/10\n",
            "282/282 [==============================] - 399s 1s/step - loss: 0.7495 - accuracy: 0.7676 - val_loss: 0.5386 - val_accuracy: 0.8288\n",
            "Epoch 6/10\n",
            "282/282 [==============================] - 397s 1s/step - loss: 0.7232 - accuracy: 0.7758 - val_loss: 0.5250 - val_accuracy: 0.8358\n",
            "Epoch 7/10\n",
            "282/282 [==============================] - 398s 1s/step - loss: 0.7066 - accuracy: 0.7661 - val_loss: 0.5414 - val_accuracy: 0.8318\n",
            "Epoch 8/10\n",
            "282/282 [==============================] - 395s 1s/step - loss: 0.6819 - accuracy: 0.7824 - val_loss: 0.5293 - val_accuracy: 0.8368\n",
            "Epoch 9/10\n",
            "282/282 [==============================] - 397s 1s/step - loss: 0.6957 - accuracy: 0.7784 - val_loss: 0.5288 - val_accuracy: 0.8388\n",
            "Epoch 10/10\n",
            "282/282 [==============================] - 396s 1s/step - loss: 0.6572 - accuracy: 0.7858 - val_loss: 0.5369 - val_accuracy: 0.8318\n"
          ],
          "name": "stdout"
        },
        {
          "output_type": "display_data",
          "data": {
            "text/html": [
              "<br/>Waiting for W&B process to finish, PID 168<br/>Program ended successfully."
            ],
            "text/plain": [
              "<IPython.core.display.HTML object>"
            ]
          },
          "metadata": {
            "tags": []
          }
        },
        {
          "output_type": "display_data",
          "data": {
            "application/vnd.jupyter.widget-view+json": {
              "model_id": "b7c764f25b3443f5bfcf9ae3b0aaf8a5",
              "version_minor": 0,
              "version_major": 2
            },
            "text/plain": [
              "VBox(children=(Label(value=' 352.68MB of 352.68MB uploaded (0.00MB deduped)\\r'), FloatProgress(value=1.0, max=…"
            ]
          },
          "metadata": {
            "tags": []
          }
        },
        {
          "output_type": "display_data",
          "data": {
            "text/html": [
              "Find user logs for this run at: <code>/content/wandb/run-20210411_135743-p5k0yj6c/logs/debug.log</code>"
            ],
            "text/plain": [
              "<IPython.core.display.HTML object>"
            ]
          },
          "metadata": {
            "tags": []
          }
        },
        {
          "output_type": "display_data",
          "data": {
            "text/html": [
              "Find internal logs for this run at: <code>/content/wandb/run-20210411_135743-p5k0yj6c/logs/debug-internal.log</code>"
            ],
            "text/plain": [
              "<IPython.core.display.HTML object>"
            ]
          },
          "metadata": {
            "tags": []
          }
        },
        {
          "output_type": "display_data",
          "data": {
            "text/html": [
              "<h3>Run summary:</h3><br/><style>\n",
              "    table.wandb td:nth-child(1) { padding: 0 10px; text-align: right }\n",
              "    </style><table class=\"wandb\">\n",
              "<tr><td>epoch</td><td>9</td></tr><tr><td>loss</td><td>0.66276</td></tr><tr><td>accuracy</td><td>0.78556</td></tr><tr><td>val_loss</td><td>0.53692</td></tr><tr><td>val_accuracy</td><td>0.83183</td></tr><tr><td>_runtime</td><td>4088</td></tr><tr><td>_timestamp</td><td>1618153551</td></tr><tr><td>_step</td><td>10</td></tr><tr><td>best_val_loss</td><td>0.52503</td></tr><tr><td>best_epoch</td><td>5</td></tr><tr><td>batch_norm</td><td>yes</td></tr><tr><td>augmentation</td><td>yes</td></tr><tr><td>dropout</td><td>0.4</td></tr><tr><td>pre_trained_model</td><td>inceptionresnetv2</td></tr><tr><td>val_acc</td><td>0.83884</td></tr></table>"
            ],
            "text/plain": [
              "<IPython.core.display.HTML object>"
            ]
          },
          "metadata": {
            "tags": []
          }
        },
        {
          "output_type": "display_data",
          "data": {
            "text/html": [
              "<h3>Run history:</h3><br/><style>\n",
              "    table.wandb td:nth-child(1) { padding: 0 10px; text-align: right }\n",
              "    </style><table class=\"wandb\">\n",
              "<tr><td>epoch</td><td>▁▂▃▃▄▅▆▆▇█</td></tr><tr><td>loss</td><td>█▄▂▂▂▂▁▁▁▁</td></tr><tr><td>accuracy</td><td>▁▆▇▇▇█████</td></tr><tr><td>val_loss</td><td>█▆▆▄▂▁▂▁▁▂</td></tr><tr><td>val_accuracy</td><td>▁▁▃▅▅▇▆▇█▆</td></tr><tr><td>_runtime</td><td>▁▂▃▃▄▅▆▆▇██</td></tr><tr><td>_timestamp</td><td>▁▂▃▃▄▅▆▆▇██</td></tr><tr><td>_step</td><td>▁▂▂▃▄▅▅▆▇▇█</td></tr><tr><td>dropout</td><td>▁</td></tr><tr><td>val_acc</td><td>▁</td></tr></table><br/>"
            ],
            "text/plain": [
              "<IPython.core.display.HTML object>"
            ]
          },
          "metadata": {
            "tags": []
          }
        },
        {
          "output_type": "display_data",
          "data": {
            "text/html": [
              "Synced 5 W&B file(s), 1 media file(s), 2 artifact file(s) and 2 other file(s)"
            ],
            "text/plain": [
              "<IPython.core.display.HTML object>"
            ]
          },
          "metadata": {
            "tags": []
          }
        },
        {
          "output_type": "display_data",
          "data": {
            "text/html": [
              "\n",
              "                    <br/>Synced <strong style=\"color:#cdcd00\">solar-sweep-1</strong>: <a href=\"https://wandb.ai/sanjeev-nimeesh/assignment_2/runs/p5k0yj6c\" target=\"_blank\">https://wandb.ai/sanjeev-nimeesh/assignment_2/runs/p5k0yj6c</a><br/>\n",
              "                "
            ],
            "text/plain": [
              "<IPython.core.display.HTML object>"
            ]
          },
          "metadata": {
            "tags": []
          }
        },
        {
          "output_type": "stream",
          "text": [
            "\u001b[34m\u001b[1mwandb\u001b[0m: Agent Starting Run: vbi92vd8 with config:\n",
            "\u001b[34m\u001b[1mwandb\u001b[0m: \taugmentation: yes\n",
            "\u001b[34m\u001b[1mwandb\u001b[0m: \tbatchnorm: yes\n",
            "\u001b[34m\u001b[1mwandb\u001b[0m: \tdroprate: 0.4\n",
            "\u001b[34m\u001b[1mwandb\u001b[0m: \tfc_size: 128\n",
            "\u001b[34m\u001b[1mwandb\u001b[0m: \tpre_train: Xception\n"
          ],
          "name": "stderr"
        },
        {
          "output_type": "display_data",
          "data": {
            "text/html": [
              "\n",
              "                Tracking run with wandb version 0.10.25<br/>\n",
              "                Syncing run <strong style=\"color:#cdcd00\">dry-sweep-2</strong> to <a href=\"https://wandb.ai\" target=\"_blank\">Weights & Biases</a> <a href=\"https://docs.wandb.com/integrations/jupyter.html\" target=\"_blank\">(Documentation)</a>.<br/>\n",
              "                Project page: <a href=\"https://wandb.ai/sanjeev-nimeesh/assignment_2\" target=\"_blank\">https://wandb.ai/sanjeev-nimeesh/assignment_2</a><br/>\n",
              "                Sweep page: <a href=\"https://wandb.ai/sanjeev-nimeesh/assignment_2/sweeps/xqg252wy\" target=\"_blank\">https://wandb.ai/sanjeev-nimeesh/assignment_2/sweeps/xqg252wy</a><br/>\n",
              "Run page: <a href=\"https://wandb.ai/sanjeev-nimeesh/assignment_2/runs/vbi92vd8\" target=\"_blank\">https://wandb.ai/sanjeev-nimeesh/assignment_2/runs/vbi92vd8</a><br/>\n",
              "                Run data is saved locally in <code>/content/wandb/run-20210411_150609-vbi92vd8</code><br/><br/>\n",
              "            "
            ],
            "text/plain": [
              "<IPython.core.display.HTML object>"
            ]
          },
          "metadata": {
            "tags": []
          }
        },
        {
          "output_type": "stream",
          "text": [
            "Downloading data from https://storage.googleapis.com/tensorflow/keras-applications/xception/xception_weights_tf_dim_ordering_tf_kernels_notop.h5\n",
            "83689472/83683744 [==============================] - 1s 0us/step\n",
            "Found 9000 images belonging to 10 classes.\n",
            "Found 9000 images belonging to 10 classes.\n",
            "Found 999 images belonging to 10 classes.\n",
            "Epoch 1/10\n",
            "282/282 [==============================] - 383s 1s/step - loss: 1.7602 - accuracy: 0.4521 - val_loss: 0.6814 - val_accuracy: 0.7818\n",
            "Epoch 2/10\n",
            "282/282 [==============================] - 374s 1s/step - loss: 0.9588 - accuracy: 0.6956 - val_loss: 0.6375 - val_accuracy: 0.7908\n",
            "Epoch 3/10\n",
            "282/282 [==============================] - 370s 1s/step - loss: 0.8332 - accuracy: 0.7468 - val_loss: 0.5940 - val_accuracy: 0.8148\n",
            "Epoch 4/10\n",
            "282/282 [==============================] - 372s 1s/step - loss: 0.7453 - accuracy: 0.7629 - val_loss: 0.5789 - val_accuracy: 0.8188\n",
            "Epoch 5/10\n",
            "282/282 [==============================] - 363s 1s/step - loss: 0.7218 - accuracy: 0.7686 - val_loss: 0.5661 - val_accuracy: 0.8078\n",
            "Epoch 6/10\n",
            "282/282 [==============================] - 367s 1s/step - loss: 0.7133 - accuracy: 0.7699 - val_loss: 0.5704 - val_accuracy: 0.8078\n",
            "Epoch 7/10\n",
            "282/282 [==============================] - 364s 1s/step - loss: 0.6602 - accuracy: 0.7844 - val_loss: 0.5811 - val_accuracy: 0.8118\n",
            "Epoch 8/10\n",
            "282/282 [==============================] - 369s 1s/step - loss: 0.6887 - accuracy: 0.7786 - val_loss: 0.5427 - val_accuracy: 0.8188\n",
            "Epoch 9/10\n",
            "282/282 [==============================] - 373s 1s/step - loss: 0.6636 - accuracy: 0.7787 - val_loss: 0.5846 - val_accuracy: 0.8198\n",
            "Epoch 10/10\n",
            "282/282 [==============================] - 364s 1s/step - loss: 0.6270 - accuracy: 0.7981 - val_loss: 0.5652 - val_accuracy: 0.8198\n"
          ],
          "name": "stdout"
        },
        {
          "output_type": "display_data",
          "data": {
            "text/html": [
              "<br/>Waiting for W&B process to finish, PID 280<br/>Program ended successfully."
            ],
            "text/plain": [
              "<IPython.core.display.HTML object>"
            ]
          },
          "metadata": {
            "tags": []
          }
        },
        {
          "output_type": "display_data",
          "data": {
            "application/vnd.jupyter.widget-view+json": {
              "model_id": "038b4d032e9e424ba87af8db3307ef77",
              "version_minor": 0,
              "version_major": 2
            },
            "text/plain": [
              "VBox(children=(Label(value=' 380.10MB of 380.10MB uploaded (0.00MB deduped)\\r'), FloatProgress(value=1.0, max=…"
            ]
          },
          "metadata": {
            "tags": []
          }
        },
        {
          "output_type": "display_data",
          "data": {
            "text/html": [
              "Find user logs for this run at: <code>/content/wandb/run-20210411_150609-vbi92vd8/logs/debug.log</code>"
            ],
            "text/plain": [
              "<IPython.core.display.HTML object>"
            ]
          },
          "metadata": {
            "tags": []
          }
        },
        {
          "output_type": "display_data",
          "data": {
            "text/html": [
              "Find internal logs for this run at: <code>/content/wandb/run-20210411_150609-vbi92vd8/logs/debug-internal.log</code>"
            ],
            "text/plain": [
              "<IPython.core.display.HTML object>"
            ]
          },
          "metadata": {
            "tags": []
          }
        },
        {
          "output_type": "display_data",
          "data": {
            "text/html": [
              "<h3>Run summary:</h3><br/><style>\n",
              "    table.wandb td:nth-child(1) { padding: 0 10px; text-align: right }\n",
              "    </style><table class=\"wandb\">\n",
              "<tr><td>epoch</td><td>9</td></tr><tr><td>loss</td><td>0.64408</td></tr><tr><td>accuracy</td><td>0.79011</td></tr><tr><td>val_loss</td><td>0.56523</td></tr><tr><td>val_accuracy</td><td>0.81982</td></tr><tr><td>_runtime</td><td>3721</td></tr><tr><td>_timestamp</td><td>1618157290</td></tr><tr><td>_step</td><td>10</td></tr><tr><td>best_val_loss</td><td>0.54274</td></tr><tr><td>best_epoch</td><td>7</td></tr><tr><td>batch_norm</td><td>yes</td></tr><tr><td>augmentation</td><td>yes</td></tr><tr><td>dropout</td><td>0.4</td></tr><tr><td>pre_trained_model</td><td>Xception</td></tr><tr><td>val_acc</td><td>0.81982</td></tr></table>"
            ],
            "text/plain": [
              "<IPython.core.display.HTML object>"
            ]
          },
          "metadata": {
            "tags": []
          }
        },
        {
          "output_type": "display_data",
          "data": {
            "text/html": [
              "<h3>Run history:</h3><br/><style>\n",
              "    table.wandb td:nth-child(1) { padding: 0 10px; text-align: right }\n",
              "    </style><table class=\"wandb\">\n",
              "<tr><td>epoch</td><td>▁▂▃▃▄▅▆▆▇█</td></tr><tr><td>loss</td><td>█▄▃▂▂▂▁▁▁▁</td></tr><tr><td>accuracy</td><td>▁▅▆▇▇▇████</td></tr><tr><td>val_loss</td><td>█▆▄▃▂▂▃▁▃▂</td></tr><tr><td>val_accuracy</td><td>▁▃▇█▆▆▇███</td></tr><tr><td>_runtime</td><td>▁▂▃▃▄▅▆▆▇██</td></tr><tr><td>_timestamp</td><td>▁▂▃▃▄▅▆▆▇██</td></tr><tr><td>_step</td><td>▁▂▂▃▄▅▅▆▇▇█</td></tr><tr><td>dropout</td><td>▁</td></tr><tr><td>val_acc</td><td>▁</td></tr></table><br/>"
            ],
            "text/plain": [
              "<IPython.core.display.HTML object>"
            ]
          },
          "metadata": {
            "tags": []
          }
        },
        {
          "output_type": "display_data",
          "data": {
            "text/html": [
              "Synced 5 W&B file(s), 1 media file(s), 2 artifact file(s) and 2 other file(s)"
            ],
            "text/plain": [
              "<IPython.core.display.HTML object>"
            ]
          },
          "metadata": {
            "tags": []
          }
        },
        {
          "output_type": "display_data",
          "data": {
            "text/html": [
              "\n",
              "                    <br/>Synced <strong style=\"color:#cdcd00\">dry-sweep-2</strong>: <a href=\"https://wandb.ai/sanjeev-nimeesh/assignment_2/runs/vbi92vd8\" target=\"_blank\">https://wandb.ai/sanjeev-nimeesh/assignment_2/runs/vbi92vd8</a><br/>\n",
              "                "
            ],
            "text/plain": [
              "<IPython.core.display.HTML object>"
            ]
          },
          "metadata": {
            "tags": []
          }
        },
        {
          "output_type": "stream",
          "text": [
            "\u001b[34m\u001b[1mwandb\u001b[0m: Sweep Agent: Waiting for job.\n",
            "\u001b[34m\u001b[1mwandb\u001b[0m: Sweep Agent: Exiting.\n"
          ],
          "name": "stderr"
        }
      ]
    },
    {
      "cell_type": "code",
      "metadata": {
        "id": "TPYcMQWgBUX_",
        "colab": {
          "base_uri": "https://localhost:8080/"
        },
        "outputId": "9bf0fb5d-8e99-46cd-9a0f-97cfb23fb057"
      },
      "source": [
        "#Trial run with config defaults\n",
        "PreTrain()"
      ],
      "execution_count": null,
      "outputs": [
        {
          "output_type": "stream",
          "text": [
            "Found 9000 images belonging to 10 classes.\n",
            "Found 9000 images belonging to 10 classes.\n",
            "Found 999 images belonging to 10 classes.\n",
            "Epoch 1/10\n",
            "282/282 [==============================] - 340s 1s/step - loss: 1.7277 - accuracy: 0.4585 - val_loss: 0.6189 - val_accuracy: 0.8128\n",
            "Epoch 2/10\n",
            "282/282 [==============================] - 289s 1s/step - loss: 0.9558 - accuracy: 0.7016 - val_loss: 0.5813 - val_accuracy: 0.8268\n",
            "Epoch 3/10\n",
            "282/282 [==============================] - 283s 1s/step - loss: 0.8227 - accuracy: 0.7421 - val_loss: 0.5640 - val_accuracy: 0.8338\n",
            "Epoch 4/10\n",
            "282/282 [==============================] - 284s 1s/step - loss: 0.7719 - accuracy: 0.7543 - val_loss: 0.5426 - val_accuracy: 0.8388\n",
            "Epoch 5/10\n",
            "282/282 [==============================] - 285s 1s/step - loss: 0.7155 - accuracy: 0.7682 - val_loss: 0.5163 - val_accuracy: 0.8458\n",
            "Epoch 6/10\n",
            "282/282 [==============================] - 285s 1s/step - loss: 0.6831 - accuracy: 0.7802 - val_loss: 0.5186 - val_accuracy: 0.8308\n",
            "Epoch 7/10\n",
            "282/282 [==============================] - 287s 1s/step - loss: 0.7068 - accuracy: 0.7712 - val_loss: 0.5373 - val_accuracy: 0.8268\n",
            "Epoch 8/10\n",
            "282/282 [==============================] - 288s 1s/step - loss: 0.6834 - accuracy: 0.7796 - val_loss: 0.5230 - val_accuracy: 0.8368\n",
            "Epoch 9/10\n",
            "282/282 [==============================] - 289s 1s/step - loss: 0.6598 - accuracy: 0.7884 - val_loss: 0.5265 - val_accuracy: 0.8348\n",
            "Epoch 10/10\n",
            "282/282 [==============================] - 290s 1s/step - loss: 0.6336 - accuracy: 0.7896 - val_loss: 0.5122 - val_accuracy: 0.8378\n"
          ],
          "name": "stdout"
        }
      ]
    },
    {
      "cell_type": "code",
      "metadata": {
        "id": "NVCitwd9LPyF",
        "colab": {
          "base_uri": "https://localhost:8080/"
        },
        "outputId": "5fd74877-2a8a-46d4-868f-e25ef39927f3"
      },
      "source": [
        "# Defining model with best configs to evaluate on test set  \n",
        "  configs=config_defaults\n",
        "\n",
        "  batchnorm=configs['batchnorm']\n",
        "  droprate=configs['droprate']\n",
        "  augmentation=configs['augmentation']\n",
        "  fc_size=configs['fc_size']\n",
        "  pre_train = configs['pre_train']\n",
        "\n",
        "  #wandb.run.name='model_'+pre_train+'_fc_2_size_'+str(fc_size)+'_droprate_'+str(droprate)+ str('_bn_' if batchnorm=='yes' else '') +str('augment' if augmentation=='yes' else '')\n",
        "\n",
        "\n",
        "  if pre_train == 'inceptionv3':\n",
        "    img_height = 299\n",
        "    img_width = 299\n",
        "    base_model = InceptionV3(include_top=False, weights='imagenet',input_shape=(img_height, img_width,3))\n",
        "\n",
        "  if pre_train == 'inceptionresnetv2':\n",
        "    img_height = 299\n",
        "    img_width = 299\n",
        "    base_model = InceptionResNetV2(include_top=False, weights='imagenet',input_shape=(img_height, img_width,3))\n",
        "\n",
        "  if pre_train == 'resnet50':\n",
        "    img_height = 224\n",
        "    img_width = 224\n",
        "    base_model = ResNet50(include_top=False, weights='imagenet',input_shape=(img_height, img_width,3))\n",
        "\n",
        "  if pre_train == 'Xception':\n",
        "    img_height = 299\n",
        "    img_width = 299\n",
        "    base_model = Xception(include_top=False, weights='imagenet',input_shape=(img_height, img_width,3))  \n",
        "\n",
        "\n",
        "  for layers in base_model.layers:\n",
        "    layers.trainable = False\n",
        "\n",
        "  model = keras.Sequential([\n",
        "      tf.keras.Input(shape=(img_height, img_width,3,)),\n",
        "      base_model,\n",
        "      Flatten(),\n",
        "      Dense(fc_size,activation='relu'),\n",
        "      \n",
        "  ])\n",
        "  if batchnorm == 'yes':\n",
        "    model.add(BatchNormalization())\n",
        "  model.add(Dropout(droprate))\n",
        "  model.add(Dense(fc_size, activation='relu'))\n",
        "  model.add(Dropout(droprate))\n",
        "  model.add(Dense(10 ,activation='softmax'))\n",
        "  \n",
        "\n",
        "  #data generators for train(with and without validation) and validation\n",
        "  augment= ImageDataGenerator(\n",
        "    rotation_range=30,\n",
        "    width_shift_range=0.2,\n",
        "    height_shift_range=0.2,\n",
        "    zoom_range=0.2,\n",
        "    horizontal_flip=True,\n",
        "    rescale=1.0 / 255,\n",
        "    validation_split=0.1,\n",
        "    dtype=tf.float32,\n",
        "  )\n",
        "\n",
        "  datagen = ImageDataGenerator(\n",
        "    rescale=1.0 / 255,\n",
        "    validation_split=0.1,\n",
        "    dtype=tf.float32,\n",
        "  )\n",
        "\n",
        "  train_set = datagen.flow_from_directory(\n",
        "    train_dir,\n",
        "    target_size=(img_height, img_width),\n",
        "    batch_size=32,\n",
        "    color_mode='rgb',\n",
        "    class_mode='sparse',\n",
        "    shuffle=True,\n",
        "    subset='training',\n",
        "    seed=123,\n",
        "  )\n",
        "\n",
        "  aug_set = augment.flow_from_directory(\n",
        "      train_dir,\n",
        "      target_size=(img_height, img_width),\n",
        "      batch_size=32,\n",
        "      color_mode='rgb',\n",
        "      class_mode='sparse',\n",
        "      shuffle=True,\n",
        "      subset='training',\n",
        "      seed=123,\n",
        "  )\n",
        "\n",
        "  val_set = datagen.flow_from_directory(\n",
        "      train_dir,\n",
        "      target_size=(img_height, img_width),\n",
        "      color_mode='rgb',\n",
        "      class_mode='sparse',\n",
        "      shuffle=True,\n",
        "      subset='validation',\n",
        "      seed=123,\n",
        "  )\n",
        "\n",
        "  model.compile(\n",
        "    optimizer=tf.keras.optimizers.Adam(),\n",
        "    loss=[tf.keras.losses.SparseCategoricalCrossentropy()],\n",
        "    metrics=['accuracy'],\n",
        "  )\n",
        "\n",
        "  if augmentation =='no' :\n",
        "    #hist=model.fit(train_set,epochs=10,validation_data=val_set,callbacks=[WandbCallback()]) \n",
        "    hist=model.fit(train_set,epochs=10,validation_data=val_set)\n",
        "  \n",
        "  else:\n",
        "    #hist=model.fit(aug_set,epochs=10,validation_data=val_set,callbacks=[WandbCallback()])\n",
        "    hist=model.fit(aug_set,epochs=10,validation_data=val_set)\n"
      ],
      "execution_count": 5,
      "outputs": [
        {
          "output_type": "stream",
          "text": [
            "Downloading data from https://storage.googleapis.com/tensorflow/keras-applications/inception_resnet_v2/inception_resnet_v2_weights_tf_dim_ordering_tf_kernels_notop.h5\n",
            "219062272/219055592 [==============================] - 1s 0us/step\n",
            "Found 9000 images belonging to 10 classes.\n",
            "Found 9000 images belonging to 10 classes.\n",
            "Found 999 images belonging to 10 classes.\n",
            "Epoch 1/10\n",
            "282/282 [==============================] - 344s 1s/step - loss: 1.7028 - accuracy: 0.4703 - val_loss: 0.6269 - val_accuracy: 0.8028\n",
            "Epoch 2/10\n",
            "282/282 [==============================] - 290s 1s/step - loss: 0.9174 - accuracy: 0.7152 - val_loss: 0.5931 - val_accuracy: 0.8188\n",
            "Epoch 3/10\n",
            "282/282 [==============================] - 283s 1s/step - loss: 0.8025 - accuracy: 0.7481 - val_loss: 0.5447 - val_accuracy: 0.8368\n",
            "Epoch 4/10\n",
            "282/282 [==============================] - 282s 1s/step - loss: 0.7885 - accuracy: 0.7509 - val_loss: 0.5423 - val_accuracy: 0.8248\n",
            "Epoch 5/10\n",
            "282/282 [==============================] - 283s 1s/step - loss: 0.7350 - accuracy: 0.7631 - val_loss: 0.5582 - val_accuracy: 0.8328\n",
            "Epoch 6/10\n",
            "282/282 [==============================] - 283s 1s/step - loss: 0.7117 - accuracy: 0.7723 - val_loss: 0.5664 - val_accuracy: 0.8318\n",
            "Epoch 7/10\n",
            "282/282 [==============================] - 284s 1s/step - loss: 0.7060 - accuracy: 0.7744 - val_loss: 0.5425 - val_accuracy: 0.8298\n",
            "Epoch 8/10\n",
            "282/282 [==============================] - 283s 1s/step - loss: 0.6945 - accuracy: 0.7791 - val_loss: 0.5276 - val_accuracy: 0.8338\n",
            "Epoch 9/10\n",
            "282/282 [==============================] - 286s 1s/step - loss: 0.6763 - accuracy: 0.7815 - val_loss: 0.5357 - val_accuracy: 0.8278\n",
            "Epoch 10/10\n",
            "282/282 [==============================] - 287s 1s/step - loss: 0.6834 - accuracy: 0.7820 - val_loss: 0.5317 - val_accuracy: 0.8318\n"
          ],
          "name": "stdout"
        }
      ]
    },
    {
      "cell_type": "code",
      "metadata": {
        "colab": {
          "base_uri": "https://localhost:8080/"
        },
        "id": "Ul28lGnRy_uh",
        "outputId": "a85b5874-52d7-47b7-eba2-157db5d9df10"
      },
      "source": [
        "#data generator for test set\n",
        "test_datagen = ImageDataGenerator(\n",
        "    rescale=1.0 / 255,\n",
        "  )\n",
        "\n",
        "test_set = test_datagen.flow_from_directory(\n",
        "      test_dir,\n",
        "      target_size=(img_height, img_width),\n",
        "      color_mode='rgb',\n",
        "      class_mode='sparse',\n",
        "      shuffle=True,\n",
        "      seed=123,\n",
        "  )\n",
        "\n",
        "#evaluating model on test set\n",
        "model.evaluate(test_set)"
      ],
      "execution_count": 6,
      "outputs": [
        {
          "output_type": "stream",
          "text": [
            "Found 2000 images belonging to 10 classes.\n",
            "63/63 [==============================] - 34s 534ms/step - loss: 0.5280 - accuracy: 0.8410\n"
          ],
          "name": "stdout"
        },
        {
          "output_type": "execute_result",
          "data": {
            "text/plain": [
              "[0.5280486941337585, 0.8410000205039978]"
            ]
          },
          "metadata": {
            "tags": []
          },
          "execution_count": 6
        }
      ]
    },
    {
      "cell_type": "code",
      "metadata": {
        "id": "WDZzNGje_m0E"
      },
      "source": [
        ""
      ],
      "execution_count": 8,
      "outputs": []
    }
  ]
}